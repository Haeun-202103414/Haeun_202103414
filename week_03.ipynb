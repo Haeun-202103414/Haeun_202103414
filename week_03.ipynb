{
 "cells": [
  {
   "cell_type": "markdown",
   "id": "08396e79-c449-4caf-b122-ebcf2fe91a0c",
   "metadata": {},
   "source": [
    "## 중첩조건문 ㅣ nested conditional\n",
    "- if 블록 안에 또 if 블록이 만들어지는 경우\n",
    "    - 예 : if...\n",
    "             if...\n",
    "                 if...\n",
    "    - 구분은 들여쓰기로 한다.\n",
    "    - 조건이 여러 개일 경우 사용한다.\n",
    "    - 지양. 더 예쁜 방법을 찾아본다."
   ]
  },
  {
   "cell_type": "code",
   "execution_count": 1,
   "id": "eaff34e2-269a-43c1-85b4-4c0925bef081",
   "metadata": {},
   "outputs": [
    {
     "name": "stdout",
     "output_type": "stream",
     "text": [
      "Block B\n"
     ]
    }
   ],
   "source": [
    "x = 0\n",
    "y = 4\n",
    "\n",
    "if x == y:\n",
    "    print(\"Block A\")\n",
    "else:\n",
    "    if x < y:\n",
    "        print(\"Block B\")\n",
    "    else:\n",
    "        print(\"Block C\")"
   ]
  },
  {
   "cell_type": "code",
   "execution_count": null,
   "id": "2484ae36-395d-45c9-942e-691f6167b3bc",
   "metadata": {},
   "outputs": [],
   "source": [
    "if x == y:\n",
    "    print(\"Block A\")\n",
    "elif x < y:\n",
    "    print(\"Block B\")\n",
    "else:\n",
    "    print(\"Block C\")"
   ]
  },
  {
   "cell_type": "code",
   "execution_count": 2,
   "id": "46796c1a-f69e-48a8-9b11-82726314614d",
   "metadata": {},
   "outputs": [
    {
     "name": "stdout",
     "output_type": "stream",
     "text": [
      "Block D\n"
     ]
    }
   ],
   "source": [
    "# 0 < x <10\n",
    "if x > 0:\n",
    "    print('A')\n",
    "    if x < 10:\n",
    "        print(\"B\")\n",
    "    else:\n",
    "        print(\"C\")\n",
    "else:\n",
    "    print(\"D\")"
   ]
  },
  {
   "cell_type": "code",
   "execution_count": null,
   "id": "10bf6d3c-64c7-4e92-971c-a8a09ac077ca",
   "metadata": {},
   "outputs": [],
   "source": [
    "# 방법 1\n",
    "if (x > 0) and (x < 10): #논리연산자 사용하는 방법\n",
    "    print('A')\n",
    "else:\n",
    "    print('B')\n",
    "    \n",
    "# 방법 2\n",
    "if 0 < x < 10: #파이썬에서만 가능함\n",
    "    print('A')\n",
    "else:\n",
    "    print('B')"
   ]
  },
  {
   "cell_type": "markdown",
   "id": "7b18c072-e148-4f9b-8047-2b07fa8b1393",
   "metadata": {},
   "source": [
    "### 논리연산자\n",
    "- 비교연산 조건을 여러 번 사용하는 경우]\n",
    "    - x > 0, x <10\n",
    "- and, or, not\n",
    "    - A and B: A 그리고 B. A, B 둘다 참일 때 True(&)\n",
    "    - A or B: A 혹은 B. 둘 중 하나만 참이면 True(ㅣ)\n",
    "    - not A: A 참이면 False, 거짓이면 True(~)"
   ]
  },
  {
   "cell_type": "markdown",
   "id": "251db8f0-1ee6-4b7f-ace1-087e0300cf75",
   "metadata": {},
   "source": [
    "### True/False\n",
    "- A = True\n",
    "- \"만약 A가 참이면,...\""
   ]
  },
  {
   "cell_type": "code",
   "execution_count": null,
   "id": "dd6fd38b-cb17-40e9-b042-4dc26606c10d",
   "metadata": {},
   "outputs": [],
   "source": [
    "if a == True: #아님\n",
    "    print()\n",
    "if a:\n",
    "    print()"
   ]
  },
  {
   "cell_type": "markdown",
   "id": "91d68e64-324f-45b9-86f8-55dfc9b63c1f",
   "metadata": {},
   "source": [
    "### in\n",
    "- membership operator\n",
    "- 요소가 안에 포함되어 있는가 or 비슷한 조건문이 여럿일 때\n",
    "- A in B = A가 B에 포함되어 있냐"
   ]
  },
  {
   "cell_type": "code",
   "execution_count": 3,
   "id": "f18ec732-df3e-4313-bfaf-ba5c94413625",
   "metadata": {},
   "outputs": [
    {
     "name": "stdout",
     "output_type": "stream",
     "text": [
      "자음\n"
     ]
    }
   ],
   "source": [
    "# ex1. 모음인지 아닌지 판별하라 ('a', 'e', 'i', 'o', 'u')\n",
    "letter = 'k'\n",
    "# if letter == 'a' or letter == 'e',...\n",
    "if letter in ['a', 'e', 'i', 'o', 'u']:\n",
    "    print('모음')\n",
    "else: print('자음')"
   ]
  },
  {
   "cell_type": "code",
   "execution_count": 5,
   "id": "c2972a3d-4225-40e2-a0b2-f008a1057ebc",
   "metadata": {},
   "outputs": [
    {
     "name": "stdout",
     "output_type": "stream",
     "text": [
      "yes\n"
     ]
    }
   ],
   "source": [
    "# 단어에 모음이 있는지 확인\n",
    "word = 'apple'\n",
    "if 'a' or 'e' or 'i' or 'u' in word:\n",
    "    print('yes')"
   ]
  },
  {
   "cell_type": "markdown",
   "id": "10808493-ae35-4050-b2eb-b97799bd77ee",
   "metadata": {},
   "source": [
    "### 코끼리연산자\n",
    "- walrus operator\n",
    "- :=\n",
    "- 할당 + 테스트 동시에 하는 기능"
   ]
  },
  {
   "cell_type": "code",
   "execution_count": 6,
   "id": "b918a986-9286-4fad-8bac-9b9e414976d9",
   "metadata": {},
   "outputs": [],
   "source": [
    "tweet_limit = 200\n",
    "tweet_string = 'blah' * 50 # 4 * 50 = 200"
   ]
  },
  {
   "cell_type": "code",
   "execution_count": 7,
   "id": "c8ae39dc-9033-4970-b0fe-f0725ac52ca7",
   "metadata": {},
   "outputs": [
    {
     "name": "stdout",
     "output_type": "stream",
     "text": [
      "불가능하다.\n"
     ]
    }
   ],
   "source": [
    "diff = tweet_limit - len(tweet_string)\n",
    "if diff > 0:\n",
    "    print(\"가능하다.\")\n",
    "else:\n",
    "    print(\"불가능하다.\")"
   ]
  },
  {
   "cell_type": "code",
   "execution_count": 10,
   "id": "e253b53b-7f0d-4fe8-8cb8-c823284a9b91",
   "metadata": {},
   "outputs": [
    {
     "name": "stdout",
     "output_type": "stream",
     "text": [
      "no\n"
     ]
    }
   ],
   "source": [
    "if diff := tweet_limit - len(tweet_string) > 0:\n",
    "    print('yes')\n",
    "else: print('no')"
   ]
  },
  {
   "cell_type": "markdown",
   "id": "3b8c2c60-1071-4ef5-b51e-f94206928de4",
   "metadata": {},
   "source": [
    "### 퀴즈 1\n",
    "- 윤년을 구해보자\n",
    "    - 연도 입력받는다.\n",
    "    - 4로 나눠지면 윤년\n",
    "    - 100으로 나눠지면 안된다.\n",
    "    - 400으로 나눠지면 윤년이다.\n",
    "- 출력: '{}년은 윤년입니다.'/'-아닙니다.'"
   ]
  },
  {
   "cell_type": "code",
   "execution_count": 14,
   "id": "802eaf99-2ef2-4830-9ef9-889913653c0c",
   "metadata": {},
   "outputs": [
    {
     "name": "stdin",
     "output_type": "stream",
     "text": [
      "연도를 입력하세요: 2000\n"
     ]
    },
    {
     "name": "stdout",
     "output_type": "stream",
     "text": [
      "2000년은 윤년입니다.\n"
     ]
    }
   ],
   "source": [
    "year = int(input('연도를 입력하세요:'))\n",
    "\n",
    "if (year % 4 == 0 and year % 100 != 0) or (year % 400 == 0):\n",
    "    print(f'{year}년은 윤년입니다.')\n",
    "else:\n",
    "    print(f'{year}년은 윤년이 아닙니다.')"
   ]
  },
  {
   "cell_type": "markdown",
   "id": "1d19552b-1d22-4377-9d20-6f2f94d88a45",
   "metadata": {},
   "source": [
    "## String ㅣ 문자열\n",
    "- 시스템에서 가장 작은 단위\n",
    "- 불변적인 성격을 가진다. immutable\n",
    "    - 예: jack -> jeck\n",
    "- ',\" 으로 선언한다.\n",
    "    - 예: \"25.5\"\n",
    "    - ''', \"\"\" 주석이다\n",
    "- 형변환은 str()\n",
    "\n",
    "### escape character ㅣ 이스케이프문자\n",
    "- 특수한 형태의 문자열. 눈에 보이는 대로 인식되지 않는 문자\n",
    "- \\ + ch\n",
    "- 예: \\n, \\t, \\b, \\', \\\", ...\n",
    "    - \\n 출력하고 싶다? -> \\ 한번 더 (\\\\n)\n",
    "    - r'' (r'hello\\nworld')\n",
    "- 다른 스트링을 만드는 것이 아님. 주의"
   ]
  },
  {
   "cell_type": "code",
   "execution_count": 15,
   "id": "8f0d5732-604d-4a1d-b847-44a73e7e0b02",
   "metadata": {},
   "outputs": [
    {
     "name": "stdout",
     "output_type": "stream",
     "text": [
      "hello\n",
      "world\n"
     ]
    }
   ],
   "source": [
    "sent = 'hello\\nworld'\n",
    "print(sent)"
   ]
  },
  {
   "cell_type": "code",
   "execution_count": 16,
   "id": "c1339430-82cd-48fe-8d17-775b755f6821",
   "metadata": {},
   "outputs": [
    {
     "data": {
      "text/plain": [
       "\"I'm a student.\""
      ]
     },
     "execution_count": 16,
     "metadata": {},
     "output_type": "execute_result"
    }
   ],
   "source": [
    "'I\\'m a student.'"
   ]
  },
  {
   "cell_type": "code",
   "execution_count": 17,
   "id": "fc64a2bb-74a1-4b4d-874b-329b8c8613f2",
   "metadata": {},
   "outputs": [
    {
     "name": "stdout",
     "output_type": "stream",
     "text": [
      "hello\n",
      "world\n"
     ]
    }
   ],
   "source": [
    "sent = 'hello\\nworld'\n",
    "sent\n",
    "print(sent)"
   ]
  },
  {
   "cell_type": "markdown",
   "id": "57407b3f-8f62-4c61-9314-41eea7a89291",
   "metadata": {},
   "source": [
    "### 연산\n",
    "- concatenatation\n",
    "    - '' + '' => 공백 없이 결합하는 방법\n",
    "- 곱하기\n",
    "    - \"*5 => 복제"
   ]
  },
  {
   "cell_type": "code",
   "execution_count": 19,
   "id": "f113e72a-f156-4422-8c71-4ecc016d7015",
   "metadata": {},
   "outputs": [
    {
     "data": {
      "text/plain": [
       "'jackjack'"
      ]
     },
     "execution_count": 19,
     "metadata": {},
     "output_type": "execute_result"
    }
   ],
   "source": [
    "name = 'jack'\n",
    "name + name"
   ]
  },
  {
   "cell_type": "code",
   "execution_count": 20,
   "id": "0163148c-465d-4a60-859b-011e27e21dc6",
   "metadata": {},
   "outputs": [
    {
     "data": {
      "text/plain": [
       "'jackjackjackjack'"
      ]
     },
     "execution_count": 20,
     "metadata": {},
     "output_type": "execute_result"
    }
   ],
   "source": [
    "name * 4"
   ]
  },
  {
   "cell_type": "code",
   "execution_count": 22,
   "id": "a74df60f-4d25-45db-985d-92ca155bfdf4",
   "metadata": {},
   "outputs": [
    {
     "ename": "TypeError",
     "evalue": "'str' object does not support item assignment",
     "output_type": "error",
     "traceback": [
      "\u001b[0;31m---------------------------------------------------------------------------\u001b[0m",
      "\u001b[0;31mTypeError\u001b[0m                                 Traceback (most recent call last)",
      "\u001b[0;32m/var/folders/hw/1ktzsq7s1w14xc35sfjzdtg80000gn/T/ipykernel_3946/2321402583.py\u001b[0m in \u001b[0;36m<module>\u001b[0;34m\u001b[0m\n\u001b[1;32m      1\u001b[0m \u001b[0;31m#immutable\u001b[0m\u001b[0;34m\u001b[0m\u001b[0;34m\u001b[0m\u001b[0m\n\u001b[0;32m----> 2\u001b[0;31m \u001b[0mname\u001b[0m\u001b[0;34m[\u001b[0m\u001b[0;36m1\u001b[0m\u001b[0;34m]\u001b[0m \u001b[0;34m=\u001b[0m \u001b[0;34m'e'\u001b[0m\u001b[0;34m\u001b[0m\u001b[0;34m\u001b[0m\u001b[0m\n\u001b[0m",
      "\u001b[0;31mTypeError\u001b[0m: 'str' object does not support item assignment"
     ]
    }
   ],
   "source": [
    "#immutable\n",
    "name[1] = 'e'"
   ]
  },
  {
   "cell_type": "markdown",
   "id": "04b22bf1-e80a-4132-81bd-b1d8f315ad52",
   "metadata": {},
   "source": [
    "### 슬라이싱, 추출\n",
    "- 문자열의 일부분을 떼어내는 작업\n",
    "- 대괄호 사용, 그 안에 오프셋을 지정\n",
    "- 중요한 점 -> 오프셋은 0부터 시작한다. \n",
    "    0123\n",
    "    jack\n",
    "- 음수도 가능함. -1부터 시작\n",
    "    -4-3-2-1\n",
    "    j a  c k\n",
    "- 오프셋은 [시작:끝:스텝] # step=1\n",
    "- 시작은 포함, 끝은 포함하지 않음 (이상 - 미만)"
   ]
  },
  {
   "cell_type": "code",
   "execution_count": 24,
   "id": "6b58669a-f3c9-42e5-86bc-ffd4fb9c8d12",
   "metadata": {},
   "outputs": [
    {
     "data": {
      "text/plain": [
       "'k'"
      ]
     },
     "execution_count": 24,
     "metadata": {},
     "output_type": "execute_result"
    }
   ],
   "source": [
    "name = 'jack'\n",
    "name[-1]"
   ]
  },
  {
   "cell_type": "code",
   "execution_count": 26,
   "id": "5756ff89-da8d-4689-a194-42d132771f27",
   "metadata": {},
   "outputs": [
    {
     "data": {
      "text/plain": [
       "'hello\\nworld'"
      ]
     },
     "execution_count": 26,
     "metadata": {},
     "output_type": "execute_result"
    }
   ],
   "source": [
    "sent"
   ]
  },
  {
   "cell_type": "code",
   "execution_count": 27,
   "id": "2449b6e2-612a-4598-916c-b7071e94c6bd",
   "metadata": {},
   "outputs": [
    {
     "data": {
      "text/plain": [
       "'l'"
      ]
     },
     "execution_count": 27,
     "metadata": {},
     "output_type": "execute_result"
    }
   ],
   "source": [
    "sent[3:4]"
   ]
  },
  {
   "cell_type": "code",
   "execution_count": 29,
   "id": "2ed290bd-21bc-4e3b-bc38-6eed406e0115",
   "metadata": {},
   "outputs": [
    {
     "data": {
      "text/plain": [
       "'hello\\n'"
      ]
     },
     "execution_count": 29,
     "metadata": {},
     "output_type": "execute_result"
    }
   ],
   "source": [
    "#처음부터 5까지 출력\n",
    "sent[:6] #0은 안씀"
   ]
  },
  {
   "cell_type": "code",
   "execution_count": 32,
   "id": "f34f80c4-8f35-47d5-8a02-990d797ded53",
   "metadata": {},
   "outputs": [
    {
     "data": {
      "text/plain": [
       "11"
      ]
     },
     "execution_count": 32,
     "metadata": {},
     "output_type": "execute_result"
    }
   ],
   "source": [
    "len(sent)"
   ]
  },
  {
   "cell_type": "code",
   "execution_count": 34,
   "id": "8fcf377a-1dd2-4cdc-8973-e49d9bb26e91",
   "metadata": {},
   "outputs": [
    {
     "data": {
      "text/plain": [
       "'hlowrd'"
      ]
     },
     "execution_count": 34,
     "metadata": {},
     "output_type": "execute_result"
    }
   ],
   "source": [
    "# 처음부터 끝까지 2스텝씩 출력\n",
    "sent[::2]"
   ]
  },
  {
   "cell_type": "code",
   "execution_count": 43,
   "id": "acc76ba3-178b-4338-8638-5e910732cb57",
   "metadata": {},
   "outputs": [
    {
     "data": {
      "text/plain": [
       "'dlrow\\nolleh'"
      ]
     },
     "execution_count": 43,
     "metadata": {},
     "output_type": "execute_result"
    }
   ],
   "source": [
    "# 모든 글자를 거꾸로 출력하세요 \n",
    "sent[::-1]"
   ]
  },
  {
   "cell_type": "code",
   "execution_count": 8,
   "id": "0116f788-e078-4a3f-9d86-a0730da9f2bc",
   "metadata": {},
   "outputs": [
    {
     "data": {
      "text/plain": [
       "['benz', 'kia']"
      ]
     },
     "execution_count": 8,
     "metadata": {},
     "output_type": "execute_result"
    }
   ],
   "source": [
    "#리스트에서도 슬라이싱이 됨\n",
    "cars = ['benz', 'kia']\n",
    "cars[0:2]"
   ]
  },
  {
   "cell_type": "markdown",
   "id": "0326a18e-292b-4d44-a165-fc624f36b755",
   "metadata": {},
   "source": [
    "### NLTK"
   ]
  },
  {
   "cell_type": "markdown",
   "id": "27486e88-f0fb-4ba6-b68e-52ee43445100",
   "metadata": {},
   "source": [
    "- natural language toolkit\n",
    "- 자연어 분석을 위해 교육용으로 배포된 패키지\n",
    "- 내장함수, 기능들이 추가됨\n",
    "    - 토크나이즈, 파싱, 태깅,..."
   ]
  },
  {
   "cell_type": "code",
   "execution_count": 53,
   "id": "c67e341e-7eab-45d3-89d3-e62734be122e",
   "metadata": {},
   "outputs": [
    {
     "name": "stdout",
     "output_type": "stream",
     "text": [
      "Requirement already satisfied: nltk in ./opt/anaconda3/lib/python3.9/site-packages (3.6.5)\n",
      "Requirement already satisfied: click in ./opt/anaconda3/lib/python3.9/site-packages (from nltk) (8.0.3)\n",
      "Requirement already satisfied: joblib in ./opt/anaconda3/lib/python3.9/site-packages (from nltk) (1.1.0)\n",
      "Requirement already satisfied: regex>=2021.8.3 in ./opt/anaconda3/lib/python3.9/site-packages (from nltk) (2021.8.3)\n",
      "Requirement already satisfied: tqdm in ./opt/anaconda3/lib/python3.9/site-packages (from nltk) (4.62.3)\n"
     ]
    }
   ],
   "source": [
    "!pip install nltk #설치"
   ]
  },
  {
   "cell_type": "code",
   "execution_count": 10,
   "id": "0d9fc745-bf6d-49df-a661-c8b766c2841d",
   "metadata": {},
   "outputs": [
    {
     "ename": "NameError",
     "evalue": "name 'true' is not defined",
     "output_type": "error",
     "traceback": [
      "\u001b[0;31m---------------------------------------------------------------------------\u001b[0m",
      "\u001b[0;31mNameError\u001b[0m                                 Traceback (most recent call last)",
      "\u001b[0;32m/var/folders/hw/1ktzsq7s1w14xc35sfjzdtg80000gn/T/ipykernel_1551/1328993044.py\u001b[0m in \u001b[0;36m<module>\u001b[0;34m\u001b[0m\n\u001b[1;32m      1\u001b[0m \u001b[0;32mimport\u001b[0m \u001b[0mnltk\u001b[0m \u001b[0;31m# 가져오기\u001b[0m\u001b[0;34m\u001b[0m\u001b[0;34m\u001b[0m\u001b[0m\n\u001b[0;32m----> 2\u001b[0;31m \u001b[0mnltk\u001b[0m\u001b[0;34m.\u001b[0m\u001b[0mdownload\u001b[0m\u001b[0;34m(\u001b[0m\u001b[0;34m'book'\u001b[0m\u001b[0;34m,\u001b[0m\u001b[0mquiet\u001b[0m\u001b[0;34m=\u001b[0m\u001b[0mtrue\u001b[0m\u001b[0;34m)\u001b[0m \u001b[0;31m#접근할 때는 . 사용\u001b[0m\u001b[0;34m\u001b[0m\u001b[0;34m\u001b[0m\u001b[0m\n\u001b[0m\u001b[1;32m      3\u001b[0m                                  \u001b[0;31m#부분적으로 다운받기\u001b[0m\u001b[0;34m\u001b[0m\u001b[0;34m\u001b[0m\u001b[0m\n",
      "\u001b[0;31mNameError\u001b[0m: name 'true' is not defined"
     ]
    }
   ],
   "source": [
    "import nltk # 가져오기 \n",
    "nltk.download('book',quiet=true) #접근할 때는 . 사용\n",
    "                                 #부분적으로 다운받기"
   ]
  },
  {
   "cell_type": "code",
   "execution_count": 9,
   "id": "2f79db56-b8da-4c56-bc41-47810654e784",
   "metadata": {},
   "outputs": [
    {
     "data": {
      "text/plain": [
       "<Text: Moby Dick by Herman Melville 1851>"
      ]
     },
     "execution_count": 9,
     "metadata": {},
     "output_type": "execute_result"
    }
   ],
   "source": [
    "from nltk import book\n",
    "book.text1"
   ]
  },
  {
   "cell_type": "code",
   "execution_count": 66,
   "id": "e2675370-1724-41ce-b02f-d8a833b6ee1a",
   "metadata": {},
   "outputs": [
    {
     "data": {
      "text/plain": [
       "['[',\n",
       " 'Moby',\n",
       " 'Dick',\n",
       " 'by',\n",
       " 'Herman',\n",
       " 'Melville',\n",
       " '1851',\n",
       " ']',\n",
       " 'ETYMOLOGY',\n",
       " '.']"
      ]
     },
     "execution_count": 66,
     "metadata": {},
     "output_type": "execute_result"
    }
   ],
   "source": [
    "moby = book.text1\n",
    "moby.tokens[:10] #토큰에 접근하는 방법\n",
    "#토큰: 프로그래민의 단어 단위 hello world, I'm not a coward.\n",
    "    # I'm / I, 'm /  I, am"
   ]
  },
  {
   "cell_type": "code",
   "execution_count": 67,
   "id": "4fc72299-b1f1-4167-9b9f-8542d99fce3f",
   "metadata": {},
   "outputs": [
    {
     "data": {
      "text/plain": [
       "260819"
      ]
     },
     "execution_count": 67,
     "metadata": {},
     "output_type": "execute_result"
    }
   ],
   "source": [
    "# 1. 길이 세기\n",
    "len(moby) #26만자"
   ]
  },
  {
   "cell_type": "code",
   "execution_count": 70,
   "id": "108d1aa7-053f-4d94-b81b-e142abbfc79a",
   "metadata": {},
   "outputs": [
    {
     "data": {
      "text/plain": [
       "19317"
      ]
     },
     "execution_count": 70,
     "metadata": {},
     "output_type": "execute_result"
    }
   ],
   "source": [
    "# 2. 중복 없이 단어 몇 개?\n",
    "len(set(moby)) #1.9만 자"
   ]
  },
  {
   "cell_type": "markdown",
   "id": "99ae84bf-b5bf-411b-beb5-444b55130577",
   "metadata": {},
   "source": [
    "- list\n",
    "    - ['a', a, True]\n",
    "    - 순서 있음\n",
    "    - 중복 허용됨\n",
    "    - list()\n",
    "- set\n",
    "    - {'a', a, True}\n",
    "    - 순서 없음\n",
    "    - 중복 허용 안 됨\n",
    "    - set()\n",
    "    - 수학의 집합 개념"
   ]
  },
  {
   "cell_type": "code",
   "execution_count": 81,
   "id": "29381070-2133-427c-99a8-905e6af47a54",
   "metadata": {},
   "outputs": [
    {
     "data": {
      "text/plain": [
       "['kia', 'hyundai', 'renault', 'benz', 'benz', 'kia']"
      ]
     },
     "execution_count": 81,
     "metadata": {},
     "output_type": "execute_result"
    }
   ],
   "source": [
    "cars = ['kia', 'hyundai', 'renault', 'benz', 'benz', 'kia']\n",
    "cars"
   ]
  },
  {
   "cell_type": "code",
   "execution_count": 82,
   "id": "7e83c064-de9d-4d21-8b2c-d710aaad3bdb",
   "metadata": {},
   "outputs": [
    {
     "data": {
      "text/plain": [
       "{'benz', 'hyundai', 'kia', 'renault'}"
      ]
     },
     "execution_count": 82,
     "metadata": {},
     "output_type": "execute_result"
    }
   ],
   "source": [
    "set(cars)"
   ]
  },
  {
   "cell_type": "code",
   "execution_count": 71,
   "id": "a2584c96-f56f-45dd-8083-66c83bddf120",
   "metadata": {},
   "outputs": [
    {
     "data": {
      "text/plain": [
       "0.07406285585022564"
      ]
     },
     "execution_count": 71,
     "metadata": {},
     "output_type": "execute_result"
    }
   ],
   "source": [
    "# lexical diversity\n",
    "len(set(moby)) / len(moby)"
   ]
  },
  {
   "cell_type": "code",
   "execution_count": 83,
   "id": "3c7f1cc1-f0b9-41a1-8e19-f13db08d4e9e",
   "metadata": {},
   "outputs": [
    {
     "data": {
      "text/plain": [
       "['renault', 'kia', 'kia', 'hyundai', 'benz', 'benz']"
      ]
     },
     "execution_count": 83,
     "metadata": {},
     "output_type": "execute_result"
    }
   ],
   "source": [
    "# 정렬\n",
    "sorted(cars, reverse=True) #거꾸로 정렬"
   ]
  },
  {
   "cell_type": "code",
   "execution_count": 85,
   "id": "1eefc157-17aa-4ec9-b6cd-ad89a29a57d3",
   "metadata": {},
   "outputs": [
    {
     "data": {
      "text/plain": [
       "['.',\n",
       " '1851',\n",
       " 'Dick',\n",
       " 'ETYMOLOGY',\n",
       " 'Herman',\n",
       " 'Melville',\n",
       " 'Moby',\n",
       " '[',\n",
       " ']',\n",
       " 'by']"
      ]
     },
     "execution_count": 85,
     "metadata": {},
     "output_type": "execute_result"
    }
   ],
   "source": [
    "sorted(moby[:10])"
   ]
  },
  {
   "cell_type": "code",
   "execution_count": 86,
   "id": "1c38da1f-5bb3-4aa5-bb8e-b4fcfdc2a0ad",
   "metadata": {},
   "outputs": [
    {
     "data": {
      "text/plain": [
       "['!', '!', '!', '!', '!', '!', '!', '!', '!', '!']"
      ]
     },
     "execution_count": 86,
     "metadata": {},
     "output_type": "execute_result"
    }
   ],
   "source": [
    "sorted(moby)[:10]"
   ]
  },
  {
   "cell_type": "markdown",
   "id": "7c104dcd-ac44-48a3-bf58-f7f246f91657",
   "metadata": {},
   "source": [
    "### Quiz 1\n",
    "- text6 가져와서 토큰을 변수에 담고\n",
    "- 중복 없는 셋으로 저장하고 내림차순\n",
    "    - 앞에서 10개 단어 출력\n",
    "    - 단어에 z가 있으면 z를 대문자로 바꾸시오\n",
    "    - z가 없는데 4자 이상이면 끝 글자를 대문자로 바꾸라.\n"
   ]
  },
  {
   "cell_type": "code",
   "execution_count": 11,
   "id": "1620dc08-2678-414c-ad3f-fd6e328b9df9",
   "metadata": {},
   "outputs": [
    {
     "name": "stdout",
     "output_type": "stream",
     "text": [
      "['now', 'Cider', 'non', 'we', 'Exactly', 'curtains', 'prevent', 'somewhere', 'stretched', 'running']\n"
     ]
    },
    {
     "ename": "AttributeError",
     "evalue": "'list' object has no attribute 'capitalize'",
     "output_type": "error",
     "traceback": [
      "\u001b[0;31m---------------------------------------------------------------------------\u001b[0m",
      "\u001b[0;31mAttributeError\u001b[0m                            Traceback (most recent call last)",
      "\u001b[0;32m/var/folders/hw/1ktzsq7s1w14xc35sfjzdtg80000gn/T/ipykernel_992/261973597.py\u001b[0m in \u001b[0;36m<module>\u001b[0;34m\u001b[0m\n\u001b[1;32m     10\u001b[0m \u001b[0;32melse\u001b[0m\u001b[0;34m:\u001b[0m\u001b[0;34m\u001b[0m\u001b[0;34m\u001b[0m\u001b[0m\n\u001b[1;32m     11\u001b[0m     \u001b[0;32mif\u001b[0m \u001b[0mlen\u001b[0m\u001b[0;34m(\u001b[0m\u001b[0mmoby\u001b[0m\u001b[0;34m)\u001b[0m \u001b[0;34m>=\u001b[0m \u001b[0;36m4\u001b[0m\u001b[0;34m:\u001b[0m\u001b[0;34m\u001b[0m\u001b[0;34m\u001b[0m\u001b[0m\n\u001b[0;32m---> 12\u001b[0;31m         \u001b[0mprint\u001b[0m\u001b[0;34m(\u001b[0m\u001b[0mmoby\u001b[0m\u001b[0;34m.\u001b[0m\u001b[0mcapitalize\u001b[0m\u001b[0;34m(\u001b[0m\u001b[0;34m)\u001b[0m\u001b[0;34m)\u001b[0m\u001b[0;34m\u001b[0m\u001b[0;34m\u001b[0m\u001b[0m\n\u001b[0m",
      "\u001b[0;31mAttributeError\u001b[0m: 'list' object has no attribute 'capitalize'"
     ]
    }
   ],
   "source": [
    "from nltk import book\n",
    "moby = book.text6.tokens\n",
    "moby = set(moby)\n",
    "moby = list(moby)\n",
    "mpby = sorted(moby, reverse=True)\n",
    "print(moby[:10])\n",
    "\n",
    "if moby in ['z']:\n",
    "    print(moby.capitalize())\n",
    "else:\n",
    "    if len(moby) >= 4:\n",
    "        print(moby.capitalize())"
   ]
  },
  {
   "cell_type": "markdown",
   "id": "7535a74c-bca5-4925-919b-fa9d64562d77",
   "metadata": {},
   "source": [
    "### Quiz 2\n",
    "- 주민번호, 휴대폰 번호, 이메일 주소 입력 받는다.\n",
    "- 주민번호, 휴대폰번호는 숫자만 입력받는다.(- 없이)\n",
    "- 이메일주소는 아이디만 입력받는다.(@xx 없이)\n",
    "    - 1. \"당신은 {}년 {}월 {}일 출생의 {남성/여상}입니다.\"\n",
    "    - 2. 휴대폰 번호: 000-0000-0000\n",
    "    - 2. 이메일주소:xxx@gmail.com"
   ]
  },
  {
   "cell_type": "code",
   "execution_count": 55,
   "id": "a62a4df2-6771-45c9-81ce-6d4d3c4f4967",
   "metadata": {},
   "outputs": [
    {
     "name": "stdin",
     "output_type": "stream",
     "text": [
      "주민번호를 입력하시오:  0211214452916\n",
      "휴대전화를 입력하시오:  01024789664\n",
      "아이디를 입력하시오:  gkdms1399\n"
     ]
    },
    {
     "name": "stdout",
     "output_type": "stream",
     "text": [
      "1. 당신은 02년 11월 21일 출생의 여성입니다.\n",
      "2. 휴대폰 번호: 010-2478-9664\n",
      "3. 이메일주소: gkdms1399@gmail.com\n"
     ]
    }
   ],
   "source": [
    "id_number = input('주민번호를 입력하시오: ')\n",
    "phone_number = input('휴대전화를 입력하시오: ')\n",
    "email = input('아이디를 입력하시오: ')\n",
    "\n",
    "if int(id_number[6]) % 2 == 0:\n",
    "    print(f'1. 당신은 {id_number[:2]}년 {id_number[2:4]}월 {id_number[4:6]}일 출생의 여성입니다.')\n",
    "else:\n",
    "    print(f'1. 당신은 {id_number[:2]}년 {id_number[2:4]}월 {id_number[4:6]}일 출생의 남성입니다.')\n",
    "    \n",
    "print(f'2. 휴대폰 번호: {phone_number[:3]}-{phone_number[3:7]}-{phone_number[7:]}')\n",
    "print(f'3. 이메일주소: {email}@gmail.com')"
   ]
  }
 ],
 "metadata": {
  "kernelspec": {
   "display_name": "Python 3 (ipykernel)",
   "language": "python",
   "name": "python3"
  },
  "language_info": {
   "codemirror_mode": {
    "name": "ipython",
    "version": 3
   },
   "file_extension": ".py",
   "mimetype": "text/x-python",
   "name": "python",
   "nbconvert_exporter": "python",
   "pygments_lexer": "ipython3",
   "version": "3.9.7"
  }
 },
 "nbformat": 4,
 "nbformat_minor": 5
}
