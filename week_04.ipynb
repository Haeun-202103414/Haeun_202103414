{
 "cells": [
  {
   "cell_type": "markdown",
   "id": "231ad988-2a1d-463f-b163-f7ca62e3e0aa",
   "metadata": {},
   "source": [
    "### String with NLTK"
   ]
  },
  {
   "cell_type": "code",
   "execution_count": 1,
   "id": "f0094d75-34e0-4c17-a419-9b42e9a02c60",
   "metadata": {
    "collapsed": true,
    "jupyter": {
     "outputs_hidden": true
    },
    "tags": []
   },
   "outputs": [
    {
     "name": "stdout",
     "output_type": "stream",
     "text": [
      "*** Introductory Examples for the NLTK Book ***\n",
      "Loading text1, ..., text9 and sent1, ..., sent9\n",
      "Type the name of the text or sentence to view it.\n",
      "Type: 'texts()' or 'sents()' to list the materials.\n",
      "text1: Moby Dick by Herman Melville 1851\n",
      "text2: Sense and Sensibility by Jane Austen 1811\n",
      "text3: The Book of Genesis\n",
      "text4: Inaugural Address Corpus\n",
      "text5: Chat Corpus\n",
      "text6: Monty Python and the Holy Grail\n",
      "text7: Wall Street Journal\n",
      "text8: Personals Corpus\n",
      "text9: The Man Who Was Thursday by G . K . Chesterton 1908\n"
     ]
    },
    {
     "data": {
      "text/plain": [
       "True"
      ]
     },
     "execution_count": 1,
     "metadata": {},
     "output_type": "execute_result"
    }
   ],
   "source": [
    "import nltk\n",
    "from nltk.book import *\n",
    "nltk.download('book', quiet=True)"
   ]
  },
  {
   "cell_type": "markdown",
   "id": "57dce706-d22c-4b22-b3be-94e30680d70e",
   "metadata": {},
   "source": [
    "### 내장함수 I\n",
    "- string1.method(string2)\n",
    "- list.method(string)\n",
    "\n",
    "- list.count(string): string이 나타나는 개수\n",
    "- str.replace(): A -> B 변경하는\n",
    "- str.strip(): 공백 등등을 제거하는 기능\n",
    "    - lstrip, rstrip\n",
    "- find()\n",
    "    - lrind, rfind\n",
    "    - 공백 포함\n",
    "    - 1번째 값의 인덱스\n",
    "    - 만족하는 갑이 없는 경우 -1 반환\n",
    "- index(string)\n",
    "    - 에러 발생 "
   ]
  },
  {
   "cell_type": "code",
   "execution_count": 2,
   "id": "7aa57ad5-4267-42a0-b033-d40de381b964",
   "metadata": {},
   "outputs": [
    {
     "data": {
      "text/plain": [
       "1661"
      ]
     },
     "execution_count": 2,
     "metadata": {},
     "output_type": "execute_result"
    }
   ],
   "source": [
    "text1.count('he')"
   ]
  },
  {
   "cell_type": "code",
   "execution_count": 4,
   "id": "66bfbefe-390b-47b1-a356-4c86700b4cd2",
   "metadata": {},
   "outputs": [
    {
     "data": {
      "text/plain": [
       "'Word'"
      ]
     },
     "execution_count": 4,
     "metadata": {},
     "output_type": "execute_result"
    }
   ],
   "source": [
    "'word'.replace('w','W')"
   ]
  },
  {
   "cell_type": "code",
   "execution_count": 6,
   "id": "bada7fb7-563c-4767-9a0c-64315525755e",
   "metadata": {},
   "outputs": [
    {
     "data": {
      "text/plain": [
       "'   \\t   word'"
      ]
     },
     "execution_count": 6,
     "metadata": {},
     "output_type": "execute_result"
    }
   ],
   "source": [
    "'   \\t   word'.rstrip()"
   ]
  },
  {
   "cell_type": "code",
   "execution_count": 9,
   "id": "8cdfc69e-104b-4200-815a-f93c59969fdb",
   "metadata": {},
   "outputs": [],
   "source": [
    "word = '   /t    word'\n",
    "word = word.replace('w', 'ch').strip().replace('d', 'D')"
   ]
  },
  {
   "cell_type": "code",
   "execution_count": 10,
   "id": "d14dc954-399d-4ff5-892a-80b1c4a9984d",
   "metadata": {},
   "outputs": [
    {
     "data": {
      "text/plain": [
       "'/t    chorD'"
      ]
     },
     "execution_count": 10,
     "metadata": {},
     "output_type": "execute_result"
    }
   ],
   "source": [
    "word"
   ]
  },
  {
   "cell_type": "code",
   "execution_count": null,
   "id": "47f17eb4-9128-4e8c-9048-17cafa6d3573",
   "metadata": {},
   "outputs": [],
   "source": [
    "word2 = '  "
   ]
  },
  {
   "cell_type": "markdown",
   "id": "06ef782e-c98b-4a33-94ae-580b3adf34e0",
   "metadata": {},
   "source": [
    "### NLTK 내장 함수\n",
    "- list.method(var)\n",
    "- 자연어처리와 관련된 함수들\n",
    "\n",
    "- concordance() : string의 앞뒤 문맥을 알 수 있음\n",
    "- similar(): 문맥이 비슷한 단어들\n",
    "- common_contexts(): 주어진 스트링이 어떤 문맥을 공유하는지\n",
    "- dispersion_plot():주어진 스트링이 텍스트에서 출현하는 위치를 이미지로"
   ]
  },
  {
   "cell_type": "code",
   "execution_count": 11,
   "id": "98408b3a-1c4f-4458-ad10-41240efa55c5",
   "metadata": {
    "collapsed": true,
    "jupyter": {
     "outputs_hidden": true
    },
    "tags": []
   },
   "outputs": [
    {
     "name": "stdout",
     "output_type": "stream",
     "text": [
      "Displaying 25 of 1226 matches:\n",
      "s , and to teach them by what name a whale - fish is to be called in our tongue\n",
      "t which is not true .\" -- HACKLUYT \" WHALE . ... Sw . and Dan . HVAL . This ani\n",
      "ulted .\" -- WEBSTER ' S DICTIONARY \" WHALE . ... It is more immediately from th\n",
      "ISH . WAL , DUTCH . HWAL , SWEDISH . WHALE , ICELANDIC . WHALE , ENGLISH . BALE\n",
      "HWAL , SWEDISH . WHALE , ICELANDIC . WHALE , ENGLISH . BALEINE , FRENCH . BALLE\n",
      "least , take the higgledy - piggledy whale statements , however authentic , in \n",
      " dreadful gulf of this monster ' s ( whale ' s ) mouth , are immediately lost a\n",
      " patient Job .\" -- RABELAIS . \" This whale ' s liver was two cartloads .\" -- ST\n",
      " Touching that monstrous bulk of the whale or ork we have received nothing cert\n",
      " of oil will be extracted out of one whale .\" -- IBID . \" HISTORY OF LIFE AND D\n",
      "ise .\" -- KING HENRY . \" Very like a whale .\" -- HAMLET . \" Which to secure , n\n",
      "restless paine , Like as the wounded whale to shore flies thro ' the maine .\" -\n",
      ". OF SPERMA CETI AND THE SPERMA CETI WHALE . VIDE HIS V . E . \" Like Spencer ' \n",
      "t had been a sprat in the mouth of a whale .\" -- PILGRIM ' S PROGRESS . \" That \n",
      "EN ' S ANNUS MIRABILIS . \" While the whale is floating at the stern of the ship\n",
      "e ship called The Jonas - in - the - Whale . ... Some say the whale can ' t ope\n",
      " in - the - Whale . ... Some say the whale can ' t open his mouth , but that is\n",
      " masts to see whether they can see a whale , for the first discoverer has a duc\n",
      " for his pains . ... I was told of a whale taken near Shetland , that had above\n",
      "oneers told me that he caught once a whale in Spitzbergen that was white all ov\n",
      "2 , one eighty feet in length of the whale - bone kind came in , which ( as I w\n",
      "n master and kill this Sperma - ceti whale , for I could never hear of any of t\n",
      " . 1729 . \"... and the breath of the whale is frequendy attended with such an i\n",
      "ed with hoops and armed with ribs of whale .\" -- RAPE OF THE LOCK . \" If we com\n",
      "contemptible in the comparison . The whale is doubtless the largest animal in c\n"
     ]
    }
   ],
   "source": [
    "text1.concordance('whale')"
   ]
  },
  {
   "cell_type": "code",
   "execution_count": 12,
   "id": "9399a86e-3f02-4ee0-9798-2315ee11e281",
   "metadata": {},
   "outputs": [
    {
     "name": "stdout",
     "output_type": "stream",
     "text": [
      "ship boat sea time captain world man deck pequod other whales air\n",
      "water head crew line thing side way body\n"
     ]
    }
   ],
   "source": [
    "text1.similar('whale')"
   ]
  },
  {
   "cell_type": "code",
   "execution_count": 16,
   "id": "d43479ce-fd60-4e6c-b97c-c7453e1aba6f",
   "metadata": {},
   "outputs": [
    {
     "name": "stdout",
     "output_type": "stream",
     "text": [
      "am_glad a_pretty a_lucky is_pretty be_glad\n"
     ]
    }
   ],
   "source": [
    "text2.common_contexts(['monstrous','very'])"
   ]
  },
  {
   "cell_type": "code",
   "execution_count": 3,
   "id": "c5790e0c-0083-488b-8cfa-0aa91c9cf25b",
   "metadata": {},
   "outputs": [
    {
     "name": "stdout",
     "output_type": "stream",
     "text": [
      "\u001b[31mERROR: Could not find a version that satisfies the requirement matplorlib (from versions: none)\u001b[0m\n",
      "\u001b[31mERROR: No matching distribution found for matplorlib\u001b[0m\n"
     ]
    }
   ],
   "source": [
    "!pip install matplorlib"
   ]
  },
  {
   "cell_type": "code",
   "execution_count": 4,
   "id": "e2c0ef90-72fa-4290-9fc2-cf3c2a5582f3",
   "metadata": {},
   "outputs": [
    {
     "ename": "NameError",
     "evalue": "name 'text4' is not defined",
     "output_type": "error",
     "traceback": [
      "\u001b[0;31m---------------------------------------------------------------------------\u001b[0m",
      "\u001b[0;31mNameError\u001b[0m                                 Traceback (most recent call last)",
      "\u001b[0;32m/var/folders/hw/1ktzsq7s1w14xc35sfjzdtg80000gn/T/ipykernel_7063/3012024958.py\u001b[0m in \u001b[0;36m<module>\u001b[0;34m\u001b[0m\n\u001b[0;32m----> 1\u001b[0;31m \u001b[0mtext4\u001b[0m\u001b[0;34m.\u001b[0m\u001b[0mdispersion_plot\u001b[0m\u001b[0;34m(\u001b[0m\u001b[0;34m)\u001b[0m\u001b[0;34m(\u001b[0m\u001b[0;34m[\u001b[0m\u001b[0;34m'citizens'\u001b[0m\u001b[0;34m,\u001b[0m\u001b[0;34m'America'\u001b[0m\u001b[0;34m,\u001b[0m\u001b[0;34m'freedom'\u001b[0m\u001b[0;34m]\u001b[0m\u001b[0;34m)\u001b[0m\u001b[0;34m\u001b[0m\u001b[0;34m\u001b[0m\u001b[0m\n\u001b[0m",
      "\u001b[0;31mNameError\u001b[0m: name 'text4' is not defined"
     ]
    }
   ],
   "source": [
    "text4.dispersion_plot()(['citizens','America','freedom'])"
   ]
  },
  {
   "cell_type": "markdown",
   "id": "09db650e-d52e-4bbf-880d-29e48aeb66a9",
   "metadata": {},
   "source": [
    "### Frequency Distribution\n",
    "- 단어의 빈도수를 활용할 수 있는 많은 매소드를 제공\n",
    "- 인간 언어 -> 컴퓨터가 인식\n",
    "    - 전체 단어 수\n",
    "    - 특정의 빈도수"
   ]
  },
  {
   "cell_type": "code",
   "execution_count": 20,
   "id": "f2ce0005-9ef0-4b01-a6b9-82caa2e64f48",
   "metadata": {},
   "outputs": [
    {
     "data": {
      "text/plain": [
       "FreqDist({',': 18713, 'the': 13721, '.': 6862, 'of': 6536, 'and': 6024, 'a': 4569, 'to': 4542, ';': 4072, 'in': 3916, 'that': 2982, ...})"
      ]
     },
     "execution_count": 20,
     "metadata": {},
     "output_type": "execute_result"
    }
   ],
   "source": [
    "fidist = FreqDist(text1)\n",
    "fidist"
   ]
  },
  {
   "cell_type": "code",
   "execution_count": 21,
   "id": "40f4baa4-15cb-4fcd-bfc3-991df77b19c7",
   "metadata": {},
   "outputs": [
    {
     "data": {
      "text/plain": [
       "[(',', 18713),\n",
       " ('the', 13721),\n",
       " ('.', 6862),\n",
       " ('of', 6536),\n",
       " ('and', 6024),\n",
       " ('a', 4569),\n",
       " ('to', 4542),\n",
       " (';', 4072),\n",
       " ('in', 3916),\n",
       " ('that', 2982)]"
      ]
     },
     "execution_count": 21,
     "metadata": {},
     "output_type": "execute_result"
    }
   ],
   "source": [
    "fidist.most_common(10)"
   ]
  },
  {
   "cell_type": "code",
   "execution_count": 22,
   "id": "8d61c88f-334b-41e7-8803-7492fdbc5262",
   "metadata": {},
   "outputs": [
    {
     "data": {
      "text/plain": [
       "(906, 906)"
      ]
     },
     "execution_count": 22,
     "metadata": {},
     "output_type": "execute_result"
    }
   ],
   "source": [
    "fidist['whale'], text1.count('whale')"
   ]
  },
  {
   "cell_type": "code",
   "execution_count": 23,
   "id": "48527672-38e2-4657-96c5-a43dd210e5c5",
   "metadata": {},
   "outputs": [
    {
     "data": {
      "text/plain": [
       "0.003473673313677301"
      ]
     },
     "execution_count": 23,
     "metadata": {},
     "output_type": "execute_result"
    }
   ],
   "source": [
    "fidist.freq('whale')"
   ]
  },
  {
   "cell_type": "code",
   "execution_count": 24,
   "id": "74502dcb-0920-47ff-9603-18dd5b0efeeb",
   "metadata": {},
   "outputs": [
    {
     "data": {
      "image/png": "[encoded data removed]",
      "text/plain": [
       "<Figure size 432x288 with 1 Axes>"
      ]
     },
     "metadata": {
      "needs_background": "light"
     },
     "output_type": "display_data"
    },
    {
     "data": {
      "text/plain": [
       "<AxesSubplot:xlabel='Samples', ylabel='Cumulative Counts'>"
      ]
     },
     "execution_count": 24,
     "metadata": {},
     "output_type": "execute_result"
    }
   ],
   "source": [
    "fidist.plot(50, cumulative=True)"
   ]
  },
  {
   "cell_type": "code",
   "execution_count": 1,
   "id": "29a171aa-ac42-434a-b1fc-edab759af72f",
   "metadata": {},
   "outputs": [
    {
     "ename": "NameError",
     "evalue": "name 'fdist' is not defined",
     "output_type": "error",
     "traceback": [
      "\u001b[0;31m---------------------------------------------------------------------------\u001b[0m",
      "\u001b[0;31mNameError\u001b[0m                                 Traceback (most recent call last)",
      "\u001b[0;32m/var/folders/hw/1ktzsq7s1w14xc35sfjzdtg80000gn/T/ipykernel_7063/820000059.py\u001b[0m in \u001b[0;36m<module>\u001b[0;34m\u001b[0m\n\u001b[1;32m      1\u001b[0m \u001b[0;31m# 1번 나타나는 단어들\u001b[0m\u001b[0;34m\u001b[0m\u001b[0;34m\u001b[0m\u001b[0m\n\u001b[0;32m----> 2\u001b[0;31m \u001b[0mlen\u001b[0m\u001b[0;34m(\u001b[0m\u001b[0mfdist\u001b[0m\u001b[0;34m.\u001b[0m\u001b[0mhapaxes\u001b[0m\u001b[0;34m(\u001b[0m\u001b[0;34m)\u001b[0m\u001b[0;34m)\u001b[0m \u001b[0;31m#중복은 안 됨, 대소무자 구분됨\u001b[0m\u001b[0;34m\u001b[0m\u001b[0;34m\u001b[0m\u001b[0m\n\u001b[0m",
      "\u001b[0;31mNameError\u001b[0m: name 'fdist' is not defined"
     ]
    }
   ],
   "source": [
    "# 1번 나타나는 단어들\n",
    "len(fdist.hapaxes()) #중복은 안 됨, 대소문자 구분됨"
   ]
  },
  {
   "cell_type": "code",
   "execution_count": 2,
   "id": "c6700874-b7f5-49ae-a048-a0dd3cce38d3",
   "metadata": {},
   "outputs": [
    {
     "ename": "NameError",
     "evalue": "name 'fdist' is not defined",
     "output_type": "error",
     "traceback": [
      "\u001b[0;31m---------------------------------------------------------------------------\u001b[0m",
      "\u001b[0;31mNameError\u001b[0m                                 Traceback (most recent call last)",
      "\u001b[0;32m/var/folders/hw/1ktzsq7s1w14xc35sfjzdtg80000gn/T/ipykernel_7063/2795843141.py\u001b[0m in \u001b[0;36m<module>\u001b[0;34m\u001b[0m\n\u001b[0;32m----> 1\u001b[0;31m \u001b[0mlen\u001b[0m\u001b[0;34m(\u001b[0m\u001b[0mset\u001b[0m\u001b[0;34m(\u001b[0m\u001b[0mfdist\u001b[0m\u001b[0;34m.\u001b[0m\u001b[0mhapaxes\u001b[0m\u001b[0;34m(\u001b[0m\u001b[0;34m)\u001b[0m\u001b[0;34m)\u001b[0m\u001b[0;34m)\u001b[0m\u001b[0;34m\u001b[0m\u001b[0;34m\u001b[0m\u001b[0m\n\u001b[0m",
      "\u001b[0;31mNameError\u001b[0m: name 'fdist' is not defined"
     ]
    }
   ],
   "source": [
    "len(set(fdist.hapaxes()))"
   ]
  },
  {
   "cell_type": "markdown",
   "id": "84c69b64-8e41-4996-9046-57f4d199f37b",
   "metadata": {},
   "source": [
    "### 리스트 & 리스트 컴프라헨션\n",
    "- 리스트 : 배열(array), 리스트(list)\n",
    "- 하나의 변수에 여러 값을 할당하는 자료형\n",
    "    - 'a = [1, 2, 3, 4]'\n",
    "- 대괄호로 선언 []\n",
    "- 내부 요소들은 자료향이 달라도 됨\n",
    "    - a = [1, True, 'hello']\n",
    "- 순서가 있다 => 인덱싱, 슬라이싱 가능\n",
    "- 빈 리스트 선언 list(), []"
   ]
  },
  {
   "cell_type": "code",
   "execution_count": 29,
   "id": "65057654-72a1-400b-8e38-1c195082bd5a",
   "metadata": {},
   "outputs": [
    {
     "data": {
      "text/plain": [
       "['hello', True, 1]"
      ]
     },
     "execution_count": 29,
     "metadata": {},
     "output_type": "execute_result"
    }
   ],
   "source": [
    "a = [1, True, 'hello']\n",
    "a[::-1]"
   ]
  },
  {
   "cell_type": "code",
   "execution_count": 30,
   "id": "8d5f1826-8c67-4f0d-b025-855921f00b57",
   "metadata": {},
   "outputs": [],
   "source": [
    "b = []\n",
    "b = list()"
   ]
  },
  {
   "cell_type": "code",
   "execution_count": 32,
   "id": "90c722d5-f634-4af5-bbff-a7f74f0334e8",
   "metadata": {},
   "outputs": [],
   "source": [
    "drinks = ['rum', 'mojito', 'soju']\n",
    "#drinks[01]"
   ]
  },
  {
   "cell_type": "code",
   "execution_count": 34,
   "id": "e282bb4e-6f89-443d-b4ce-9a3f33c0466c",
   "metadata": {},
   "outputs": [
    {
     "data": {
      "text/plain": [
       "2"
      ]
     },
     "execution_count": 34,
     "metadata": {},
     "output_type": "execute_result"
    }
   ],
   "source": [
    "# drinks에서 soju의 오프셋을 알고싶다.\n",
    "drinks.index('soju')"
   ]
  },
  {
   "cell_type": "markdown",
   "id": "d7f8d306-d279-4f3b-aa7a-df4fcdea8ef4",
   "metadata": {},
   "source": [
    "### list comprehesion\n",
    "- 지능형 리스트\n",
    "- 주어진 리스트를 포함하는 새로운 리스트를 형성하는 것\n",
    "- list + for_loop -> 한 줄로 해결하는 방식\n",
    "- [A for A' in B]\n",
    "    - B에 있는 'A'에서 A를 가진 리스트를 반환\n",
    "    - B: 기존의 리스트\n",
    "    - A' : B의 자료 형태\n",
    "    - A: 새로운 리스트의 요소\n",
    "  \n",
    "- 조건+ : [A for A' in B if <조건식>]\n",
    "    - [A for A' in B if <조건식> and <조건식>,...]"
   ]
  },
  {
   "cell_type": "code",
   "execution_count": 37,
   "id": "6436aba2-23c9-4a92-80c6-3f5125f51fad",
   "metadata": {},
   "outputs": [
    {
     "data": {
      "text/plain": [
       "['r', 'm', 's']"
      ]
     },
     "execution_count": 37,
     "metadata": {},
     "output_type": "execute_result"
    }
   ],
   "source": [
    "[d[0] for d in drinks] -> 맨 앞글자만 가져오기"
   ]
  },
  {
   "cell_type": "code",
   "execution_count": 40,
   "id": "19c87984-6285-47f0-abac-1f655a121dff",
   "metadata": {
    "collapsed": true,
    "jupyter": {
     "outputs_hidden": true
    },
    "tags": []
   },
   "outputs": [
    {
     "data": {
      "text/plain": [
       "['C',\n",
       " 't',\n",
       " 'h',\n",
       " 'e',\n",
       " 's',\n",
       " 'D',\n",
       " 'i',\n",
       " 'R',\n",
       " 'D',\n",
       " 'E',\n",
       " 'p',\n",
       " 'w',\n",
       " 's',\n",
       " 'e',\n",
       " 'p',\n",
       " 'g',\n",
       " 'c',\n",
       " 'a',\n",
       " 'u',\n",
       " 's',\n",
       " 'u',\n",
       " 'i',\n",
       " 'b',\n",
       " 'W',\n",
       " 'i',\n",
       " 'i',\n",
       " 's',\n",
       " 'p',\n",
       " 's',\n",
       " 'C',\n",
       " 'a',\n",
       " 'p',\n",
       " 'p',\n",
       " 'S',\n",
       " 'w',\n",
       " 'C',\n",
       " 'f',\n",
       " 'd',\n",
       " 'h',\n",
       " 'S',\n",
       " 'f',\n",
       " 'i',\n",
       " 'c',\n",
       " 'c',\n",
       " 't',\n",
       " 'S',\n",
       " 'N',\n",
       " 'P',\n",
       " 'c',\n",
       " 'p',\n",
       " 'B',\n",
       " 'D',\n",
       " 'm',\n",
       " 'S',\n",
       " 'S',\n",
       " 'F',\n",
       " 'm',\n",
       " 'M',\n",
       " 'i',\n",
       " 'C',\n",
       " 'f',\n",
       " 'a',\n",
       " 't',\n",
       " 'i',\n",
       " 'e',\n",
       " 'a',\n",
       " 'c',\n",
       " 'i',\n",
       " 'c',\n",
       " 'c',\n",
       " 'o',\n",
       " 'w',\n",
       " 'p',\n",
       " 'f',\n",
       " 'f',\n",
       " 'd',\n",
       " 'o',\n",
       " 'm',\n",
       " 't',\n",
       " 'i',\n",
       " 'M',\n",
       " 'p',\n",
       " 'p',\n",
       " 'A',\n",
       " 'B',\n",
       " 'A',\n",
       " 'C',\n",
       " 'D',\n",
       " 'r',\n",
       " 'i',\n",
       " 'U',\n",
       " 'i',\n",
       " 'a',\n",
       " 'P',\n",
       " 'p',\n",
       " 'p',\n",
       " 'N',\n",
       " 't',\n",
       " 'd',\n",
       " 'h',\n",
       " 'p',\n",
       " 'r',\n",
       " 'c',\n",
       " 'i',\n",
       " 'w',\n",
       " 'e',\n",
       " 'd',\n",
       " 'm',\n",
       " 's',\n",
       " 'p',\n",
       " 's',\n",
       " 'M',\n",
       " 'C',\n",
       " 'w',\n",
       " 'i',\n",
       " 'e',\n",
       " 'm',\n",
       " 'm',\n",
       " 'e',\n",
       " 'o',\n",
       " 'd',\n",
       " 'p',\n",
       " 't',\n",
       " 'u',\n",
       " 'p',\n",
       " 'q',\n",
       " 't',\n",
       " 'd',\n",
       " 'h',\n",
       " 'r',\n",
       " 't',\n",
       " 'w',\n",
       " 'c',\n",
       " 'j',\n",
       " 'j',\n",
       " 'r',\n",
       " 'r',\n",
       " 'i',\n",
       " 'f',\n",
       " 'g',\n",
       " 'u',\n",
       " 'p',\n",
       " 'e',\n",
       " 'R',\n",
       " 'H',\n",
       " 's',\n",
       " 't',\n",
       " 's',\n",
       " 'r',\n",
       " 'p',\n",
       " 's',\n",
       " 'm',\n",
       " 'p',\n",
       " 'p',\n",
       " 't',\n",
       " 'd',\n",
       " 'u',\n",
       " 'i',\n",
       " 'm',\n",
       " 'c',\n",
       " 'c',\n",
       " 'P',\n",
       " 'a',\n",
       " 'f',\n",
       " 'c',\n",
       " 'r',\n",
       " 's',\n",
       " 'i',\n",
       " 'u',\n",
       " 'P',\n",
       " 'p',\n",
       " 'P',\n",
       " 'A',\n",
       " 'm',\n",
       " 'c',\n",
       " 'p',\n",
       " 'd',\n",
       " 'o',\n",
       " 'p',\n",
       " 'm',\n",
       " 'u',\n",
       " 'P',\n",
       " 'i',\n",
       " 'e',\n",
       " 'p',\n",
       " 'd',\n",
       " 'c',\n",
       " 'b',\n",
       " 'e',\n",
       " 'm',\n",
       " 'a',\n",
       " 'a',\n",
       " 'c',\n",
       " 'c',\n",
       " 's',\n",
       " 'p',\n",
       " 'e',\n",
       " 'p',\n",
       " 'r',\n",
       " 'p',\n",
       " 'i',\n",
       " 'P',\n",
       " 'e',\n",
       " 'r',\n",
       " 'u',\n",
       " 'p',\n",
       " 'd',\n",
       " 't',\n",
       " 'E',\n",
       " 'E',\n",
       " 'n',\n",
       " 't',\n",
       " 'E',\n",
       " 'm',\n",
       " 'd',\n",
       " 'i',\n",
       " 'c',\n",
       " 's',\n",
       " 't',\n",
       " 'E',\n",
       " 'E',\n",
       " 'a',\n",
       " 'e',\n",
       " 'c',\n",
       " 'l',\n",
       " 't',\n",
       " 'b',\n",
       " 's',\n",
       " 'o',\n",
       " 't',\n",
       " 'c',\n",
       " 's',\n",
       " 'u',\n",
       " 'u',\n",
       " 'e',\n",
       " 'c',\n",
       " 'p',\n",
       " 'e',\n",
       " 'c',\n",
       " 'a',\n",
       " 'u',\n",
       " 'c',\n",
       " 'p',\n",
       " 'p',\n",
       " 'd',\n",
       " 'i',\n",
       " 'u',\n",
       " 'i',\n",
       " 'm',\n",
       " 'H',\n",
       " 'p',\n",
       " 'r',\n",
       " 'a',\n",
       " 'r',\n",
       " 'd',\n",
       " 'e',\n",
       " 'h',\n",
       " 'g',\n",
       " 'r',\n",
       " 'h',\n",
       " 'h',\n",
       " 'a',\n",
       " 's',\n",
       " 'f',\n",
       " 'e',\n",
       " 'P',\n",
       " 'd',\n",
       " 'A',\n",
       " 'd',\n",
       " 'S',\n",
       " 'a',\n",
       " 'u',\n",
       " 'o',\n",
       " 'h',\n",
       " 'h',\n",
       " 'h',\n",
       " 'o',\n",
       " 'r',\n",
       " 'd',\n",
       " 's',\n",
       " 'h',\n",
       " 'd',\n",
       " 'h',\n",
       " 'c',\n",
       " 'h',\n",
       " 's',\n",
       " 'c',\n",
       " 'h',\n",
       " 'c',\n",
       " 'o',\n",
       " 'c',\n",
       " 'w',\n",
       " 'o',\n",
       " 'i',\n",
       " 'd',\n",
       " 'r',\n",
       " 'S',\n",
       " 'm',\n",
       " 'A',\n",
       " 'c',\n",
       " 'u',\n",
       " 'B',\n",
       " 'B',\n",
       " 'B',\n",
       " 's',\n",
       " 'c',\n",
       " 'h',\n",
       " 'o',\n",
       " 'i',\n",
       " 'h',\n",
       " 'a',\n",
       " 'h',\n",
       " 'h',\n",
       " 'h',\n",
       " 't',\n",
       " 'S',\n",
       " 'h',\n",
       " 'v',\n",
       " 'i',\n",
       " 'l',\n",
       " 'e',\n",
       " 'w',\n",
       " 'h',\n",
       " 'h',\n",
       " 's',\n",
       " 'c',\n",
       " 'u',\n",
       " 'p',\n",
       " 'h',\n",
       " 'b',\n",
       " 'h',\n",
       " 'c',\n",
       " 'b',\n",
       " 'h',\n",
       " 'o',\n",
       " 'h',\n",
       " 'u',\n",
       " 'u',\n",
       " 'h',\n",
       " 'h',\n",
       " 'm',\n",
       " 'e',\n",
       " 'u',\n",
       " 'c',\n",
       " 'h',\n",
       " 'h',\n",
       " 'p',\n",
       " 'h',\n",
       " 'u',\n",
       " 'h',\n",
       " 'h',\n",
       " 'i',\n",
       " 'h',\n",
       " 'c',\n",
       " 'p',\n",
       " 'h',\n",
       " 'c',\n",
       " 'd',\n",
       " 'c',\n",
       " 'r',\n",
       " 'c',\n",
       " 'h',\n",
       " 'o',\n",
       " 's',\n",
       " 'c',\n",
       " 'c',\n",
       " 'o',\n",
       " 'h',\n",
       " 'u',\n",
       " 'm',\n",
       " 'h',\n",
       " 'h',\n",
       " 'r',\n",
       " 'h',\n",
       " 'p',\n",
       " 'h',\n",
       " 'a',\n",
       " 'd',\n",
       " 'r',\n",
       " 'h',\n",
       " 'c',\n",
       " 'c',\n",
       " 'i',\n",
       " 'e',\n",
       " 'h',\n",
       " 'd',\n",
       " 'a',\n",
       " 'c',\n",
       " 'c',\n",
       " 'n',\n",
       " 'c',\n",
       " 's',\n",
       " 'c',\n",
       " 'i',\n",
       " 'u',\n",
       " 'a',\n",
       " 's',\n",
       " 'c',\n",
       " 'f',\n",
       " 'd',\n",
       " 'p',\n",
       " 'R',\n",
       " 'a',\n",
       " 's',\n",
       " 'w',\n",
       " 'a',\n",
       " 'e',\n",
       " 'u',\n",
       " 'c',\n",
       " 'p',\n",
       " 'u',\n",
       " 'e',\n",
       " 'c',\n",
       " 'o',\n",
       " 'd',\n",
       " 'e',\n",
       " 'a',\n",
       " 'S',\n",
       " 'c',\n",
       " 'f',\n",
       " 'f',\n",
       " 'h',\n",
       " 'c',\n",
       " 't',\n",
       " 'C',\n",
       " 'a',\n",
       " 'c',\n",
       " 'i',\n",
       " 'u',\n",
       " 'i',\n",
       " 's',\n",
       " 'c',\n",
       " 'c',\n",
       " 's',\n",
       " 's',\n",
       " 'h',\n",
       " 'd',\n",
       " 'c',\n",
       " 'r',\n",
       " 's',\n",
       " 's',\n",
       " 'b',\n",
       " 'p',\n",
       " 's',\n",
       " 'm',\n",
       " 'c',\n",
       " 'u',\n",
       " 'c',\n",
       " 's',\n",
       " 's',\n",
       " 'm',\n",
       " 's',\n",
       " 'c',\n",
       " 'u',\n",
       " 'c',\n",
       " 's',\n",
       " 'r',\n",
       " 'a',\n",
       " 'c',\n",
       " 's',\n",
       " 's',\n",
       " 's',\n",
       " 'e',\n",
       " 'p',\n",
       " 'b',\n",
       " 'c',\n",
       " 'e',\n",
       " 'u',\n",
       " 'm',\n",
       " 'e',\n",
       " 'N',\n",
       " 'a',\n",
       " 'c',\n",
       " 'm',\n",
       " 'r',\n",
       " 'u',\n",
       " 'a',\n",
       " 'c',\n",
       " 'm',\n",
       " 'e',\n",
       " 'p',\n",
       " 'c',\n",
       " 'c',\n",
       " 'N',\n",
       " 's',\n",
       " 't',\n",
       " 'c',\n",
       " 'o',\n",
       " 'u',\n",
       " 'a',\n",
       " 'i',\n",
       " 'a',\n",
       " 'p',\n",
       " 'p',\n",
       " 'r',\n",
       " 'u',\n",
       " 'h',\n",
       " 'A',\n",
       " 'e',\n",
       " 'd',\n",
       " 'p',\n",
       " 's',\n",
       " 'c',\n",
       " 'b',\n",
       " 'c',\n",
       " 'b',\n",
       " 'h',\n",
       " 'c',\n",
       " 'c',\n",
       " 'p',\n",
       " 'r',\n",
       " 'o',\n",
       " 'c',\n",
       " 'm',\n",
       " 'e',\n",
       " 'b',\n",
       " 's',\n",
       " 'b',\n",
       " 'e',\n",
       " 'p',\n",
       " 'b',\n",
       " 'i',\n",
       " 'a',\n",
       " 'o',\n",
       " 'i',\n",
       " 'c',\n",
       " 'a',\n",
       " 't',\n",
       " 'c',\n",
       " 'f',\n",
       " 'n',\n",
       " 'M',\n",
       " 'a',\n",
       " 'T',\n",
       " 'E',\n",
       " 'P',\n",
       " 'B',\n",
       " 'V',\n",
       " 'd',\n",
       " 'r',\n",
       " 'b',\n",
       " 'w',\n",
       " 'h',\n",
       " 'e',\n",
       " 'r',\n",
       " 'r',\n",
       " 's',\n",
       " 'c',\n",
       " 'c',\n",
       " 'o',\n",
       " 's',\n",
       " 's',\n",
       " 'c',\n",
       " 'w',\n",
       " 'i',\n",
       " 's',\n",
       " 'D',\n",
       " '_',\n",
       " '_',\n",
       " 'i',\n",
       " 'c',\n",
       " 'i',\n",
       " 'c',\n",
       " 'u',\n",
       " 'c',\n",
       " 's',\n",
       " 'd',\n",
       " 'i',\n",
       " 'i',\n",
       " 'r',\n",
       " 'p',\n",
       " 'c',\n",
       " 's',\n",
       " 'f',\n",
       " 'u',\n",
       " 'n',\n",
       " 'u',\n",
       " 'D',\n",
       " 'i',\n",
       " 's',\n",
       " 'r',\n",
       " 'i',\n",
       " 'c',\n",
       " 's',\n",
       " 'h',\n",
       " 'd',\n",
       " 'p',\n",
       " 'p',\n",
       " 'a',\n",
       " 'a',\n",
       " 's',\n",
       " 'p',\n",
       " 'c',\n",
       " 'c',\n",
       " 'o',\n",
       " 'r',\n",
       " 'p',\n",
       " 'c',\n",
       " 'u',\n",
       " 'd',\n",
       " 'i',\n",
       " 'c',\n",
       " 'r',\n",
       " 'f',\n",
       " 'w',\n",
       " 'c',\n",
       " 'r',\n",
       " 'c',\n",
       " 's',\n",
       " 'E',\n",
       " 'r',\n",
       " 'p',\n",
       " 'f',\n",
       " 'u',\n",
       " 'f',\n",
       " 'c',\n",
       " 'e',\n",
       " 'c',\n",
       " 'c',\n",
       " 'S',\n",
       " 'b',\n",
       " 'h',\n",
       " 'p',\n",
       " 'r',\n",
       " 'd',\n",
       " 'd',\n",
       " 'd',\n",
       " 'd',\n",
       " 'M',\n",
       " 'c',\n",
       " 'd',\n",
       " 'c',\n",
       " 'c',\n",
       " 'i',\n",
       " 'a',\n",
       " 'c',\n",
       " 'd',\n",
       " 's',\n",
       " 'a',\n",
       " 's',\n",
       " 'p',\n",
       " 'o',\n",
       " 'd',\n",
       " 's',\n",
       " 'c',\n",
       " 'c',\n",
       " 'p',\n",
       " 'o',\n",
       " 'i',\n",
       " 's',\n",
       " 'c',\n",
       " 'c',\n",
       " 'c',\n",
       " 'c',\n",
       " 'a',\n",
       " 'c',\n",
       " 'w',\n",
       " 'c',\n",
       " 'c',\n",
       " 'f',\n",
       " 'a',\n",
       " 's',\n",
       " 'd',\n",
       " 'o',\n",
       " 'u',\n",
       " 'S',\n",
       " 'c',\n",
       " 's',\n",
       " 'm',\n",
       " 'i',\n",
       " 'u',\n",
       " 'm',\n",
       " 'd',\n",
       " 'p',\n",
       " 'd',\n",
       " 'c',\n",
       " 'r',\n",
       " 'p',\n",
       " 'd',\n",
       " 'r',\n",
       " 'd',\n",
       " 'm',\n",
       " 'e',\n",
       " 's',\n",
       " 'm',\n",
       " 'e',\n",
       " 'c',\n",
       " 'i',\n",
       " 't',\n",
       " 'a',\n",
       " 'b',\n",
       " 'd',\n",
       " 'b',\n",
       " 'b',\n",
       " 'h',\n",
       " 'i',\n",
       " 'd',\n",
       " 'r',\n",
       " 'a',\n",
       " 'a',\n",
       " 'c',\n",
       " 'd',\n",
       " 't',\n",
       " 'u',\n",
       " 'a',\n",
       " 'p',\n",
       " 'r',\n",
       " 'W',\n",
       " 'r',\n",
       " 'p',\n",
       " 'p',\n",
       " 'W',\n",
       " 'c',\n",
       " 'p',\n",
       " 'm',\n",
       " 'C',\n",
       " 'e',\n",
       " 'c',\n",
       " 'a',\n",
       " 'i',\n",
       " 'c',\n",
       " 's',\n",
       " 'a',\n",
       " 'p',\n",
       " 'c',\n",
       " 'p',\n",
       " 'p',\n",
       " 'p',\n",
       " 's',\n",
       " 'i',\n",
       " 'h',\n",
       " 'm',\n",
       " 'h',\n",
       " 'b',\n",
       " 'c',\n",
       " 'e',\n",
       " 'e',\n",
       " 'i',\n",
       " 'u',\n",
       " 'h',\n",
       " 'c',\n",
       " 'f',\n",
       " 'd',\n",
       " 'm',\n",
       " 'r',\n",
       " 'd',\n",
       " 'i',\n",
       " 'P',\n",
       " 'w',\n",
       " 'm',\n",
       " 'i',\n",
       " 'I',\n",
       " 'p',\n",
       " 'P',\n",
       " 'C',\n",
       " 'c',\n",
       " 'c',\n",
       " 'd',\n",
       " 'a',\n",
       " 'c',\n",
       " 'n',\n",
       " 'a',\n",
       " 'c',\n",
       " 'c',\n",
       " 'c',\n",
       " 'd',\n",
       " 'u',\n",
       " 'd',\n",
       " 'd',\n",
       " 'c',\n",
       " 'u',\n",
       " 'e',\n",
       " 'd',\n",
       " 'r',\n",
       " 'p',\n",
       " 'c',\n",
       " 'c',\n",
       " 'i',\n",
       " 'u',\n",
       " 'c',\n",
       " 's',\n",
       " 'd',\n",
       " 'p',\n",
       " 'B',\n",
       " 'C',\n",
       " 'u',\n",
       " 'p',\n",
       " 'c',\n",
       " 't',\n",
       " 'd',\n",
       " 'C',\n",
       " 'e',\n",
       " 'c',\n",
       " 'C',\n",
       " 'C',\n",
       " 'i',\n",
       " 'C',\n",
       " 'c',\n",
       " 'C',\n",
       " 'C',\n",
       " 'h',\n",
       " 'a',\n",
       " 'e',\n",
       " 'h',\n",
       " 'u',\n",
       " 'a',\n",
       " 'W',\n",
       " 'f',\n",
       " 'e',\n",
       " 'p',\n",
       " 'c',\n",
       " 'w',\n",
       " 'c',\n",
       " 't',\n",
       " 'p',\n",
       " 'w',\n",
       " 'c',\n",
       " 'p',\n",
       " 'i',\n",
       " 'c',\n",
       " 'c',\n",
       " 'c',\n",
       " 'p',\n",
       " 'e',\n",
       " 'g',\n",
       " 'c',\n",
       " 'b',\n",
       " 'e',\n",
       " 'i',\n",
       " 'm',\n",
       " 'p',\n",
       " 'c',\n",
       " 'w',\n",
       " 'm',\n",
       " 'e',\n",
       " 'p',\n",
       " 't',\n",
       " 'c',\n",
       " 'e',\n",
       " 'c',\n",
       " 'p',\n",
       " 'd',\n",
       " 'u',\n",
       " 'M',\n",
       " 'C',\n",
       " 'm',\n",
       " 'l',\n",
       " 'b',\n",
       " 's',\n",
       " 't',\n",
       " 's',\n",
       " 'e',\n",
       " 't',\n",
       " 'd',\n",
       " 'N',\n",
       " 'l',\n",
       " 'e',\n",
       " 'c',\n",
       " 'e',\n",
       " 'm',\n",
       " 'H',\n",
       " 'p',\n",
       " 'u',\n",
       " 'N',\n",
       " 'A',\n",
       " 'p',\n",
       " 't',\n",
       " 'N',\n",
       " 'p',\n",
       " 'h',\n",
       " 't',\n",
       " 'b',\n",
       " 'N',\n",
       " 'p',\n",
       " 'o',\n",
       " 'N',\n",
       " 'r',\n",
       " 'p',\n",
       " 'd',\n",
       " 'd',\n",
       " 'e',\n",
       " 'u',\n",
       " 'i',\n",
       " 'i',\n",
       " 't',\n",
       " 'p',\n",
       " 'r',\n",
       " 'p',\n",
       " 'p',\n",
       " 'd',\n",
       " 'a',\n",
       " 'd',\n",
       " 'p',\n",
       " 'p',\n",
       " 's',\n",
       " 'd',\n",
       " 'e',\n",
       " 'b',\n",
       " 'a',\n",
       " 'e',\n",
       " 's',\n",
       " 'd',\n",
       " 'd',\n",
       " 'c',\n",
       " 'u',\n",
       " 'd',\n",
       " 'c',\n",
       " 'b',\n",
       " 'i',\n",
       " 'i',\n",
       " 'i',\n",
       " 'c',\n",
       " 'e',\n",
       " 's',\n",
       " 'c',\n",
       " 'b',\n",
       " 'r',\n",
       " 'a',\n",
       " 'd',\n",
       " 'h',\n",
       " 's',\n",
       " 's',\n",
       " 'c',\n",
       " 'M',\n",
       " 'm',\n",
       " 'c',\n",
       " 'w',\n",
       " 'C',\n",
       " 'a',\n",
       " 'm',\n",
       " 'p',\n",
       " 'g',\n",
       " 'q',\n",
       " 'a',\n",
       " 'u',\n",
       " 'c',\n",
       " 'h',\n",
       " 'm',\n",
       " 'c',\n",
       " 'P',\n",
       " 't',\n",
       " 'i',\n",
       " 'c',\n",
       " 'p',\n",
       " 'a',\n",
       " 'm',\n",
       " 'i',\n",
       " 'N',\n",
       " 'c',\n",
       " 's',\n",
       " 'i',\n",
       " 'N',\n",
       " 'p',\n",
       " 'd',\n",
       " 'm',\n",
       " 'p',\n",
       " 'c',\n",
       " 'e',\n",
       " 'p',\n",
       " 'u',\n",
       " 'p',\n",
       " 'i',\n",
       " 'e',\n",
       " 'h',\n",
       " 'c',\n",
       " 'e',\n",
       " 'm',\n",
       " 'f',\n",
       " 'c',\n",
       " 'd',\n",
       " 'w',\n",
       " 's',\n",
       " 'a',\n",
       " 'f',\n",
       " 'N',\n",
       " 'o',\n",
       " 'i',\n",
       " 'p',\n",
       " 'a',\n",
       " 'a',\n",
       " 'h',\n",
       " 's',\n",
       " 's',\n",
       " 's',\n",
       " 'u',\n",
       " 'p',\n",
       " 'S',\n",
       " 'c',\n",
       " 'u',\n",
       " 'i',\n",
       " 'i',\n",
       " 'a',\n",
       " 'a',\n",
       " 'd',\n",
       " 'c',\n",
       " 'o',\n",
       " 'm',\n",
       " 't',\n",
       " 'm',\n",
       " 'i',\n",
       " ...]"
      ]
     },
     "execution_count": 40,
     "metadata": {},
     "output_type": "execute_result"
    }
   ],
   "source": [
    "# text1 알파벳 수가 10이상인 단어\n",
    "[word[0] for word in text1 if len(word) >= 10] # == text1.tokens"
   ]
  },
  {
   "cell_type": "code",
   "execution_count": 45,
   "id": "7b120766-08d7-4293-901e-cc721ab0b7d4",
   "metadata": {
    "collapsed": true,
    "jupyter": {
     "outputs_hidden": true
    },
    "tags": []
   },
   "outputs": [
    {
     "data": {
      "text/plain": [
       "['sovereignty',\n",
       " 'sovereignty',\n",
       " 'sovereignty',\n",
       " 'sovereignty',\n",
       " 'sovereignty',\n",
       " 'sovereignty',\n",
       " 'sovereignty',\n",
       " 'sovereignty',\n",
       " 'sovereignty',\n",
       " 'sovereignties',\n",
       " 'sovereignties',\n",
       " 'sovereignty',\n",
       " 'sovereignties',\n",
       " 'sovereignty',\n",
       " 'sovereignty',\n",
       " 'sovereignty',\n",
       " 'sovereignty',\n",
       " 'sovereignty',\n",
       " 'sovereignty',\n",
       " 'sovereignty',\n",
       " 'sovereignty',\n",
       " 'sovereignty',\n",
       " 'sovereignty',\n",
       " 'sovereignty',\n",
       " 'sovereignty',\n",
       " 'sovereignty',\n",
       " 'sovereignties',\n",
       " 'sovereignty',\n",
       " 'Sovereignty',\n",
       " 'sovereignty',\n",
       " 'sovereignty']"
      ]
     },
     "execution_count": 45,
     "metadata": {},
     "output_type": "execute_result"
    }
   ],
   "source": [
    "# text2에서 'gnt'를 포함하는 단어 반환\n",
    "#[word for word in text4 if 'gnt' in text4] -> 내가 한거"
   ]
  },
  {
   "cell_type": "code",
   "execution_count": 46,
   "id": "6faf1c2a-e971-45a6-9310-a7a627895563",
   "metadata": {
    "collapsed": true,
    "jupyter": {
     "outputs_hidden": true
    },
    "tags": []
   },
   "outputs": [
    {
     "data": {
      "text/plain": [
       "['sovereignty',\n",
       " 'sovereignty',\n",
       " 'sovereignty',\n",
       " 'sovereignty',\n",
       " 'sovereignty',\n",
       " 'sovereignty',\n",
       " 'sovereignty',\n",
       " 'sovereignty',\n",
       " 'sovereignty',\n",
       " 'sovereignties',\n",
       " 'sovereignties',\n",
       " 'sovereignty',\n",
       " 'sovereignties',\n",
       " 'sovereignty',\n",
       " 'sovereignty',\n",
       " 'sovereignty',\n",
       " 'sovereignty',\n",
       " 'sovereignty',\n",
       " 'sovereignty',\n",
       " 'sovereignty',\n",
       " 'sovereignty',\n",
       " 'sovereignty',\n",
       " 'sovereignty',\n",
       " 'sovereignty',\n",
       " 'sovereignty',\n",
       " 'sovereignty',\n",
       " 'sovereignties',\n",
       " 'sovereignty',\n",
       " 'Sovereignty',\n",
       " 'sovereignty',\n",
       " 'sovereignty']"
      ]
     },
     "execution_count": 46,
     "metadata": {},
     "output_type": "execute_result"
    }
   ],
   "source": [
    "a = [word for word in set(text4) if 'gnt' in word]\n",
    "b = set([word for word in text4 if 'gnt' in word])\n",
    "#둘의 차이점 -> 순서가 다름\n",
    "# a - the, The -> 연산, b - 연산 -> 중복 없앰"
   ]
  },
  {
   "cell_type": "markdown",
   "id": "be811777-0b58-474c-b8b7-8c18c279270f",
   "metadata": {},
   "source": [
    "### 조건을 위한 함수: uncased, cased\n",
    "- 'the' != 'The'\n",
    "- upper(), lower(), title()\n",
    "    - title -> THE, upper -> The\n",
    "- capitalize(), swapcase()\n",
    "- isupper(), islower(), istitle()\n",
    "- endswith(), startswith(), isalpha()"
   ]
  },
  {
   "cell_type": "code",
   "execution_count": 48,
   "id": "3f08b59e-aeea-4fcb-a7e3-e146277aa22d",
   "metadata": {},
   "outputs": [
    {
     "data": {
      "text/plain": [
       "False"
      ]
     },
     "execution_count": 48,
     "metadata": {},
     "output_type": "execute_result"
    }
   ],
   "source": [
    "'word'.isupper()"
   ]
  },
  {
   "cell_type": "code",
   "execution_count": 49,
   "id": "891384f1-d3a5-488a-8e7f-1b6d6ff3b019",
   "metadata": {},
   "outputs": [
    {
     "ename": "AttributeError",
     "evalue": "'str' object has no attribute 'endswittch'",
     "output_type": "error",
     "traceback": [
      "\u001b[0;31m---------------------------------------------------------------------------\u001b[0m",
      "\u001b[0;31mAttributeError\u001b[0m                            Traceback (most recent call last)",
      "\u001b[0;32m/var/folders/hw/1ktzsq7s1w14xc35sfjzdtg80000gn/T/ipykernel_1523/2007730257.py\u001b[0m in \u001b[0;36m<module>\u001b[0;34m\u001b[0m\n\u001b[1;32m      1\u001b[0m \u001b[0;31m#text1에서 'ableness'로 끝나는 단어 반환\u001b[0m\u001b[0;34m\u001b[0m\u001b[0;34m\u001b[0m\u001b[0m\n\u001b[0;32m----> 2\u001b[0;31m \u001b[0;34m[\u001b[0m\u001b[0mword\u001b[0m \u001b[0;32mfor\u001b[0m \u001b[0mword\u001b[0m \u001b[0;32min\u001b[0m \u001b[0mtext1\u001b[0m \u001b[0;32mif\u001b[0m \u001b[0mword\u001b[0m\u001b[0;34m.\u001b[0m\u001b[0mendswittch\u001b[0m\u001b[0;34m(\u001b[0m\u001b[0;34m'ableness'\u001b[0m\u001b[0;34m)\u001b[0m\u001b[0;34m]\u001b[0m\u001b[0;34m\u001b[0m\u001b[0;34m\u001b[0m\u001b[0m\n\u001b[0m",
      "\u001b[0;32m/var/folders/hw/1ktzsq7s1w14xc35sfjzdtg80000gn/T/ipykernel_1523/2007730257.py\u001b[0m in \u001b[0;36m<listcomp>\u001b[0;34m(.0)\u001b[0m\n\u001b[1;32m      1\u001b[0m \u001b[0;31m#text1에서 'ableness'로 끝나는 단어 반환\u001b[0m\u001b[0;34m\u001b[0m\u001b[0;34m\u001b[0m\u001b[0m\n\u001b[0;32m----> 2\u001b[0;31m \u001b[0;34m[\u001b[0m\u001b[0mword\u001b[0m \u001b[0;32mfor\u001b[0m \u001b[0mword\u001b[0m \u001b[0;32min\u001b[0m \u001b[0mtext1\u001b[0m \u001b[0;32mif\u001b[0m \u001b[0mword\u001b[0m\u001b[0;34m.\u001b[0m\u001b[0mendswittch\u001b[0m\u001b[0;34m(\u001b[0m\u001b[0;34m'ableness'\u001b[0m\u001b[0;34m)\u001b[0m\u001b[0;34m]\u001b[0m\u001b[0;34m\u001b[0m\u001b[0;34m\u001b[0m\u001b[0m\n\u001b[0m",
      "\u001b[0;31mAttributeError\u001b[0m: 'str' object has no attribute 'endswittch'"
     ]
    }
   ],
   "source": [
    "#text1에서 'ableness'로 끝나는 단어 반환\n",
    "[word for word in text1 if word.endswittch('ableness')]"
   ]
  },
  {
   "cell_type": "code",
   "execution_count": null,
   "id": "38dbd106-0b76-4970-b3a2-9f16b2996c23",
   "metadata": {},
   "outputs": [],
   "source": [
    "#text3 대문자로 시작하는 단어들 중에 길이가 3이상인 단어 -> 중복없이 뽑자 -> 대문자로 반환\n",
    "[word ]"
   ]
  },
  {
   "cell_type": "code",
   "execution_count": null,
   "id": "3ae85289-d24a-4abe-99cf-4bae6b95e37b",
   "metadata": {},
   "outputs": [],
   "source": [
    "# text4에서 알파벳만 출력, 길이가 4개 이상이고, 빈도수가 5이상인 단어의 길이 반환\n",
    "['apple']=>[5]\n",
    "\n",
    "a = [word for word in text4 if len(word) >= 5 and fdist[word] >= 5]"
   ]
  },
  {
   "cell_type": "markdown",
   "id": "29acf3df-edeb-4d74-a3db-2fa5ab6a4c2b",
   "metadata": {},
   "source": [
    "### 리스트, 스트링\n",
    "- split()\n",
    "- join()"
   ]
  },
  {
   "cell_type": "code",
   "execution_count": 7,
   "id": "2e55ac17-afe1-47e9-a8ac-4c63bc148f23",
   "metadata": {},
   "outputs": [
    {
     "data": {
      "text/plain": [
       "'I am thirsty'"
      ]
     },
     "execution_count": 7,
     "metadata": {},
     "output_type": "execute_result"
    }
   ],
   "source": [
    "sent = 'I am thirsty'\n",
    "['I', 'am', 'thirsty']\n",
    "\n",
    "sent.strip()"
   ]
  },
  {
   "cell_type": "code",
   "execution_count": 8,
   "id": "a732ad1b-b012-4e44-aacb-534a79fed798",
   "metadata": {},
   "outputs": [
    {
     "ename": "NameError",
     "evalue": "name 'sen' is not defined",
     "output_type": "error",
     "traceback": [
      "\u001b[0;31m---------------------------------------------------------------------------\u001b[0m",
      "\u001b[0;31mNameError\u001b[0m                                 Traceback (most recent call last)",
      "\u001b[0;32m/var/folders/hw/1ktzsq7s1w14xc35sfjzdtg80000gn/T/ipykernel_7063/3070335946.py\u001b[0m in \u001b[0;36m<module>\u001b[0;34m\u001b[0m\n\u001b[1;32m      1\u001b[0m \u001b[0;31m#list comrehension\u001b[0m\u001b[0;34m\u001b[0m\u001b[0;34m\u001b[0m\u001b[0m\n\u001b[0;32m----> 2\u001b[0;31m \u001b[0msen\u001b[0m\u001b[0;34m.\u001b[0m\u001b[0mstrip\u001b[0m\u001b[0;34m(\u001b[0m\u001b[0;34m)\u001b[0m\u001b[0;34m\u001b[0m\u001b[0;34m\u001b[0m\u001b[0m\n\u001b[0m",
      "\u001b[0;31mNameError\u001b[0m: name 'sen' is not defined"
     ]
    }
   ],
   "source": [
    "#list comrehension\n",
    "sen.strip()"
   ]
  },
  {
   "cell_type": "code",
   "execution_count": 9,
   "id": "327443ef-73b5-4a5d-8621-cfe182ab73a1",
   "metadata": {},
   "outputs": [
    {
     "data": {
      "text/plain": [
       "['I am thirsty']"
      ]
     },
     "execution_count": 9,
     "metadata": {},
     "output_type": "execute_result"
    }
   ],
   "source": [
    "tokens = sent.split(',')\n",
    "tokens"
   ]
  },
  {
   "cell_type": "code",
   "execution_count": 10,
   "id": "321fc389-8e13-409b-92db-228578f3f73d",
   "metadata": {},
   "outputs": [
    {
     "data": {
      "text/plain": [
       "['I am thirsty']"
      ]
     },
     "execution_count": 10,
     "metadata": {},
     "output_type": "execute_result"
    }
   ],
   "source": [
    "[word.lstrip() for word in tokens]"
   ]
  },
  {
   "cell_type": "markdown",
   "id": "98236d38-e75b-4795-a8ea-f0a028d59b0d",
   "metadata": {},
   "source": [
    "### 반복문\n",
    "- '[word for word in text1]'\n",
    "- 자료구조를 순회할 때 사용함.\n",
    "- 정해진 동작을 반복적으로 수행할 때 내리는 명령어\n",
    "- 시작조건, 종료조건, 수행명령으로 구성됨\n",
    "- for 요소 in 반복범위:수행명령\n",
    "\n",
    "- for, while\n",
    "- 들여쓰기, 블록 => 논리구조\n",
    "- 무한루프가 되지 않도록 주의할 것"
   ]
  },
  {
   "cell_type": "code",
   "execution_count": 11,
   "id": "70075492-f5b6-453d-abdd-5095d6035bec",
   "metadata": {},
   "outputs": [
    {
     "name": "stdout",
     "output_type": "stream",
     "text": [
      "*** Introductory Examples for the NLTK Book ***\n",
      "Loading text1, ..., text9 and sent1, ..., sent9\n",
      "Type the name of the text or sentence to view it.\n",
      "Type: 'texts()' or 'sents()' to list the materials.\n",
      "text1: Moby Dick by Herman Melville 1851\n",
      "text2: Sense and Sensibility by Jane Austen 1811\n",
      "text3: The Book of Genesis\n",
      "text4: Inaugural Address Corpus\n",
      "text5: Chat Corpus\n",
      "text6: Monty Python and the Holy Grail\n",
      "text7: Wall Street Journal\n",
      "text8: Personals Corpus\n",
      "text9: The Man Who Was Thursday by G . K . Chesterton 1908\n"
     ]
    },
    {
     "data": {
      "text/plain": [
       "True"
      ]
     },
     "execution_count": 11,
     "metadata": {},
     "output_type": "execute_result"
    }
   ],
   "source": [
    "import nltk\n",
    "from nltk.book import *\n",
    "nltk.download('book',quiet=True)"
   ]
  },
  {
   "cell_type": "code",
   "execution_count": 12,
   "id": "5d7d7c0c-9eaf-448b-b03c-26bdc3283055",
   "metadata": {},
   "outputs": [
    {
     "name": "stdout",
     "output_type": "stream",
     "text": [
      "[\n",
      "M\n",
      "D\n",
      "b\n",
      "H\n",
      "M\n",
      "1\n",
      "]\n",
      "E\n",
      ".\n"
     ]
    }
   ],
   "source": [
    "#[word for word in text1]\n",
    "for word in text1[:10]:\n",
    "    print(word[0])"
   ]
  },
  {
   "cell_type": "code",
   "execution_count": 13,
   "id": "09c5b4c9-43e6-4d82-865c-a7f902a6c536",
   "metadata": {},
   "outputs": [
    {
     "data": {
      "text/plain": [
       "['[',\n",
       " 'Moby',\n",
       " 'Dick',\n",
       " 'by',\n",
       " 'Herman',\n",
       " 'Melville',\n",
       " '1851',\n",
       " ']',\n",
       " 'ETYMOLOGY',\n",
       " '.']"
      ]
     },
     "execution_count": 13,
     "metadata": {},
     "output_type": "execute_result"
    }
   ],
   "source": [
    "[word for word in text1[:10]]"
   ]
  },
  {
   "cell_type": "code",
   "execution_count": 14,
   "id": "6540ff25-cd98-4961-aeaf-eb0c5ea2dcef",
   "metadata": {},
   "outputs": [
    {
     "name": "stdout",
     "output_type": "stream",
     "text": [
      "a\n",
      "b\n",
      "c\n"
     ]
    }
   ],
   "source": [
    "alphabet = ['a','b','c']\n",
    "for w in alphabet:\n",
    "    print(w)"
   ]
  },
  {
   "cell_type": "code",
   "execution_count": 15,
   "id": "60cfc84c-530a-439f-be96-5d66a3e01d81",
   "metadata": {},
   "outputs": [
    {
     "name": "stdout",
     "output_type": "stream",
     "text": [
      "1\n",
      "3\n",
      "5\n",
      "7\n",
      "9\n"
     ]
    }
   ],
   "source": [
    "#숫자 반복: range(start, end, step)\n",
    "for i in range(1, 10, 2):\n",
    "    print(i)"
   ]
  },
  {
   "cell_type": "code",
   "execution_count": 16,
   "id": "f355fbdd-c083-4c9b-b706-201055018f4c",
   "metadata": {},
   "outputs": [
    {
     "ename": "NameError",
     "evalue": "name 'text0' is not defined",
     "output_type": "error",
     "traceback": [
      "\u001b[0;31m---------------------------------------------------------------------------\u001b[0m",
      "\u001b[0;31mNameError\u001b[0m                                 Traceback (most recent call last)",
      "\u001b[0;32m/var/folders/hw/1ktzsq7s1w14xc35sfjzdtg80000gn/T/ipykernel_7063/666288641.py\u001b[0m in \u001b[0;36m<module>\u001b[0;34m\u001b[0m\n\u001b[1;32m      1\u001b[0m \u001b[0;31m#text1-9 각 텍스트의 단어 수를 반환\u001b[0m\u001b[0;34m\u001b[0m\u001b[0;34m\u001b[0m\u001b[0m\n\u001b[1;32m      2\u001b[0m     \u001b[0;31m# 10만, 20만, 24만, ...\u001b[0m\u001b[0;34m\u001b[0m\u001b[0;34m\u001b[0m\u001b[0m\n\u001b[0;32m----> 3\u001b[0;31m \u001b[0mtexts\u001b[0m \u001b[0;34m=\u001b[0m \u001b[0;34m[\u001b[0m\u001b[0mtext1\u001b[0m\u001b[0;34m,\u001b[0m \u001b[0mtext2\u001b[0m\u001b[0;34m,\u001b[0m \u001b[0mtext3\u001b[0m\u001b[0;34m,\u001b[0m \u001b[0mtext4\u001b[0m\u001b[0;34m,\u001b[0m \u001b[0mtext5\u001b[0m\u001b[0;34m,\u001b[0m \u001b[0mtext6\u001b[0m\u001b[0;34m,\u001b[0m \u001b[0mtext7\u001b[0m\u001b[0;34m,\u001b[0m \u001b[0mtext8\u001b[0m\u001b[0;34m,\u001b[0m \u001b[0mtext0\u001b[0m\u001b[0;34m]\u001b[0m\u001b[0;34m\u001b[0m\u001b[0;34m\u001b[0m\u001b[0m\n\u001b[0m\u001b[1;32m      4\u001b[0m \u001b[0;32mfor\u001b[0m \u001b[0mtext\u001b[0m \u001b[0;32min\u001b[0m \u001b[0mtexts\u001b[0m\u001b[0;34m:\u001b[0m\u001b[0;34m\u001b[0m\u001b[0;34m\u001b[0m\u001b[0m\n\u001b[1;32m      5\u001b[0m     \u001b[0mprint\u001b[0m\u001b[0;34m(\u001b[0m\u001b[0mlen\u001b[0m\u001b[0;34m(\u001b[0m\u001b[0mtext\u001b[0m\u001b[0;34m)\u001b[0m\u001b[0;34m)\u001b[0m\u001b[0;34m\u001b[0m\u001b[0;34m\u001b[0m\u001b[0m\n",
      "\u001b[0;31mNameError\u001b[0m: name 'text0' is not defined"
     ]
    }
   ],
   "source": [
    "#text1-9 각 텍스트의 단어 수를 반환\n",
    "    # 10만, 20만, 24만, ...\n",
    "texts = [text1, text2, text3, text4, text5, text6, text7, text8, text0]\n",
    "for text in texts:\n",
    "    print(len(text))\n"
   ]
  },
  {
   "cell_type": "code",
   "execution_count": null,
   "id": "da9c5908-573b-4dab-9ad8-06e2053d2439",
   "metadata": {},
   "outputs": [],
   "source": []
  }
 ],
 "metadata": {
  "kernelspec": {
   "display_name": "Python 3 (ipykernel)",
   "language": "python",
   "name": "python3"
  },
  "language_info": {
   "codemirror_mode": {
    "name": "ipython",
    "version": 3
   },
   "file_extension": ".py",
   "mimetype": "text/x-python",
   "name": "python",
   "nbconvert_exporter": "python",
   "pygments_lexer": "ipython3",
   "version": "3.9.7"
  }
 },
 "nbformat": 4,
 "nbformat_minor": 5
}
