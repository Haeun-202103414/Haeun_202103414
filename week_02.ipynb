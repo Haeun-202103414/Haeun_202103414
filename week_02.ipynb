{
 "cells": [
  {
   "cell_type": "markdown",
   "id": "c1976fd4-46be-4f5d-82c0-628dcb5e0e0e",
   "metadata": {},
   "source": [
    "## ch02. Variable\n",
    "- string\n",
    "- float\n",
    "- integer\n",
    "- boolean"
   ]
  },
  {
   "cell_type": "code",
   "execution_count": 1,
   "id": "25d57314-21f3-48d5-981e-8fc0f1d821d0",
   "metadata": {},
   "outputs": [
    {
     "data": {
      "text/plain": [
       "2"
      ]
     },
     "execution_count": 1,
     "metadata": {},
     "output_type": "execute_result"
    }
   ],
   "source": [
    "# 여러 이름 동시에 할당\n",
    "two = deux = dos = 2 # dos -> deux -> two\n",
    "two"
   ]
  },
  {
   "cell_type": "code",
   "execution_count": 2,
   "id": "587a930f-6d03-4581-991d-9bd237b1f34d",
   "metadata": {},
   "outputs": [
    {
     "name": "stdout",
     "output_type": "stream",
     "text": [
      "4 2\n"
     ]
    }
   ],
   "source": [
    "# integer는 불변객체이므로\n",
    "two = 4\n",
    "print(two, deux)"
   ]
  },
  {
   "cell_type": "code",
   "execution_count": 3,
   "id": "2ea3229d-2522-45ac-b0ce-e5e64c717b44",
   "metadata": {},
   "outputs": [
    {
     "data": {
      "text/plain": [
       "(140423821715856, 140423821715792)"
      ]
     },
     "execution_count": 3,
     "metadata": {},
     "output_type": "execute_result"
    }
   ],
   "source": [
    "id(two), id(deux)"
   ]
  },
  {
   "cell_type": "code",
   "execution_count": 6,
   "id": "746edfbd-52ec-44d2-a71f-0fa0ad4a7fed",
   "metadata": {},
   "outputs": [
    {
     "data": {
      "text/plain": [
       "([1, 2, 3], [1, 2, 3])"
      ]
     },
     "execution_count": 6,
     "metadata": {},
     "output_type": "execute_result"
    }
   ],
   "source": [
    "p = [1, 2, 3]\n",
    "q = p\n",
    "p, q"
   ]
  },
  {
   "cell_type": "code",
   "execution_count": 7,
   "id": "6195181c-28e2-4fb2-be2b-20aac2d4048b",
   "metadata": {},
   "outputs": [
    {
     "data": {
      "text/plain": [
       "(140423830893376, 140423830893376)"
      ]
     },
     "execution_count": 7,
     "metadata": {},
     "output_type": "execute_result"
    }
   ],
   "source": [
    "id(p), id(q) # 변수가 저장된 메모리 주소 찾는 함수"
   ]
  },
  {
   "cell_type": "code",
   "execution_count": 8,
   "id": "b5265b49-0892-40ef-b895-c74cd5de184d",
   "metadata": {},
   "outputs": [
    {
     "data": {
      "text/plain": [
       "([9, 2, 3], [9, 2, 3])"
      ]
     },
     "execution_count": 8,
     "metadata": {},
     "output_type": "execute_result"
    }
   ],
   "source": [
    "p[0] = 9\n",
    "p, q"
   ]
  },
  {
   "cell_type": "code",
   "execution_count": 9,
   "id": "55bf9381-65fe-4c25-bef0-7d19f37ce31f",
   "metadata": {},
   "outputs": [
    {
     "data": {
      "text/plain": [
       "(140423830893376, 140423830893376)"
      ]
     },
     "execution_count": 9,
     "metadata": {},
     "output_type": "execute_result"
    }
   ],
   "source": [
    "id(p), id(q)"
   ]
  },
  {
   "cell_type": "markdown",
   "id": "7dd5a152-2216-456c-9a73-4e6fe2775069",
   "metadata": {},
   "source": [
    "### 좋은 변수명\n",
    "- 간격하고 명확한 이름\n",
    "- 의미가 담겨야 함.\n",
    "a, b, c, ...\n",
    "- 코드에는 의미가 담기고 주석에는 의도가 담긴다.\n",
    "    -예: the number of students\n",
    "    n < the_number_of_students < num_students\n",
    "    - 카멜표기법: numstudents"
   ]
  },
  {
   "cell_type": "markdown",
   "id": "f1fd5db9-2525-48a4-9481-7c2ba3f222b6",
   "metadata": {},
   "source": [
    "### 자료형 변환, 형 변환\n",
    "-str(<변환할 값>),int(), float(), bool()"
   ]
  },
  {
   "cell_type": "code",
   "execution_count": 10,
   "id": "d65b97d6-43ee-42f0-90b9-258f5598777e",
   "metadata": {},
   "outputs": [
    {
     "data": {
      "text/plain": [
       "True"
      ]
     },
     "execution_count": 10,
     "metadata": {},
     "output_type": "execute_result"
    }
   ],
   "source": [
    "a = 10\n",
    "\n",
    "#str\n",
    "str(a)\n",
    "\n",
    "#float\n",
    "float(a)\n",
    "\n",
    "#bool\n",
    "bool(a) # 어떤 값이 False로 변환이 되는지만 기억을 하라!"
   ]
  },
  {
   "cell_type": "markdown",
   "id": "71e0e6b9-4f3a-4810-b963-89dbfa998957",
   "metadata": {},
   "source": [
    "주의할 점 1: float -> int\n"
   ]
  },
  {
   "cell_type": "code",
   "execution_count": 11,
   "id": "5cdbb35c-54d1-4a72-84b6-918fc7602e19",
   "metadata": {},
   "outputs": [
    {
     "data": {
      "text/plain": [
       "10"
      ]
     },
     "execution_count": 11,
     "metadata": {},
     "output_type": "execute_result"
    }
   ],
   "source": [
    "x = 10.7 # 소수점 내림\n",
    "int(x)"
   ]
  },
  {
   "cell_type": "code",
   "execution_count": 12,
   "id": "b096bd36-7041-4038-a8bb-341c16fec434",
   "metadata": {},
   "outputs": [
    {
     "name": "stdout",
     "output_type": "stream",
     "text": [
      "30\n",
      "29\n"
     ]
    }
   ],
   "source": [
    "y = 19.8\n",
    "\n",
    "print(int(x + y))\n",
    "print(int(x) + int(y))"
   ]
  },
  {
   "cell_type": "markdown",
   "id": "6b51b6ee-2949-45c6-a5fc-8011c5e1566f",
   "metadata": {},
   "source": [
    "주의할 점 2: str -> int/float"
   ]
  },
  {
   "cell_type": "code",
   "execution_count": 14,
   "id": "ab9a9798-4a57-4382-92c9-83951c2959d1",
   "metadata": {},
   "outputs": [
    {
     "data": {
      "text/plain": [
       "(10, 10.0)"
      ]
     },
     "execution_count": 14,
     "metadata": {},
     "output_type": "execute_result"
    }
   ],
   "source": [
    "i = '10'\n",
    "int(i), float(i)"
   ]
  },
  {
   "cell_type": "code",
   "execution_count": 15,
   "id": "c6db763a-039f-4905-b116-7e942f049008",
   "metadata": {},
   "outputs": [
    {
     "ename": "ValueError",
     "evalue": "invalid literal for int() with base 10: '10.7'",
     "output_type": "error",
     "traceback": [
      "\u001b[0;31m---------------------------------------------------------------------------\u001b[0m",
      "\u001b[0;31mValueError\u001b[0m                                Traceback (most recent call last)",
      "\u001b[0;32m/var/folders/54/cstf0sh546x4t7shxfb0nv780000gn/T/ipykernel_1238/1630938160.py\u001b[0m in \u001b[0;36m<module>\u001b[0;34m\u001b[0m\n\u001b[1;32m      1\u001b[0m \u001b[0mj\u001b[0m \u001b[0;34m=\u001b[0m \u001b[0;34m'10.7'\u001b[0m\u001b[0;34m\u001b[0m\u001b[0;34m\u001b[0m\u001b[0m\n\u001b[0;32m----> 2\u001b[0;31m \u001b[0mint\u001b[0m\u001b[0;34m(\u001b[0m\u001b[0mj\u001b[0m\u001b[0;34m)\u001b[0m\u001b[0;34m\u001b[0m\u001b[0;34m\u001b[0m\u001b[0m\n\u001b[0m",
      "\u001b[0;31mValueError\u001b[0m: invalid literal for int() with base 10: '10.7'"
     ]
    }
   ],
   "source": [
    "j = '10.7'\n",
    "int(j)"
   ]
  },
  {
   "cell_type": "markdown",
   "id": "2bf8e940-884c-4835-81fe-c1354b45b099",
   "metadata": {},
   "source": [
    "### 꿀팁 'print()'"
   ]
  },
  {
   "cell_type": "code",
   "execution_count": 16,
   "id": "9af17d48-90d3-46c0-85d6-d5c18728e45c",
   "metadata": {},
   "outputs": [
    {
     "name": "stdout",
     "output_type": "stream",
     "text": [
      "dogcatlion\n",
      "dog cat lion\n"
     ]
    }
   ],
   "source": [
    "dog = 'dog'\n",
    "cat = 'cat'\n",
    "lion = 'lion'\n",
    "\n",
    "print(dog + cat + lion) # space X \\n\n",
    "print(dog, cat, lion) # space O \\n"
   ]
  },
  {
   "cell_type": "code",
   "execution_count": 17,
   "id": "f6ff664f-df3b-4f57-9dab-0487df6225a2",
   "metadata": {},
   "outputs": [
    {
     "name": "stdout",
     "output_type": "stream",
     "text": [
      "dog cat lion\n",
      "dog/cat/lion\n",
      "\n",
      "EOL\n"
     ]
    }
   ],
   "source": [
    "print(dog, cat, lion, sep=' ', end='\\n') # default\n",
    "print(dog, cat, lion, sep='/', end='\\n\\n')\n",
    "print('EOL')\n"
   ]
  },
  {
   "cell_type": "code",
   "execution_count": 18,
   "id": "e66968db-4f55-4bf5-81e9-2a6c632f4506",
   "metadata": {},
   "outputs": [
    {
     "name": "stdout",
     "output_type": "stream",
     "text": [
      "My favorite animal is  dog\n",
      "My favorite animal is dog.\n"
     ]
    }
   ],
   "source": [
    "#1.\n",
    "print(\"My favorite animal is \", dog)\n",
    "\n",
    "#2. \n",
    "print(f\"My favorite animal is {dog}.\")"
   ]
  },
  {
   "cell_type": "markdown",
   "id": "a999e4fe-556d-4a50-9c14-be8077855c0c",
   "metadata": {},
   "source": [
    "코드 줄이 짧을 때 ;(semicolon)을 이용해 한 줄로 쓸 수 있다."
   ]
  },
  {
   "cell_type": "code",
   "execution_count": 20,
   "id": "b99d4935-f4f4-4518-993f-d9cbb6d426f5",
   "metadata": {},
   "outputs": [
    {
     "name": "stdout",
     "output_type": "stream",
     "text": [
      "dog\n"
     ]
    }
   ],
   "source": [
    "dog = 'dog'; cat = 'cat'; lion = 'lion'\n",
    "print(dog)\n",
    "\n"
   ]
  },
  {
   "cell_type": "markdown",
   "id": "a493983d-dc9a-438b-aae8-63f0619d1fde",
   "metadata": {},
   "source": [
    "#### input() 함수\n",
    "- console에서 사용자가 입력하는 값을 받을 수 있는 함수\n",
    "- 입력 받는 값은 문자열로 인식이 된다.\n",
    "- 입력 받은 값을 변수에 담아서 사용한다. 안 그러면 사라짐\n",
    "- 숫자일 경우 형 변환 한다. "
   ]
  },
  {
   "cell_type": "code",
   "execution_count": 1,
   "id": "f8106350-0541-48cb-9d55-814d7b4fd2a5",
   "metadata": {},
   "outputs": [
    {
     "name": "stdin",
     "output_type": "stream",
     "text": [
      "Hello? Hi\n"
     ]
    },
    {
     "data": {
      "text/plain": [
       "'Hi'"
      ]
     },
     "execution_count": 1,
     "metadata": {},
     "output_type": "execute_result"
    }
   ],
   "source": [
    "input(\"Hello?\")"
   ]
  },
  {
   "cell_type": "code",
   "execution_count": 3,
   "id": "6f79b1ff-cf48-421a-a443-eaa9bb538a72",
   "metadata": {},
   "outputs": [
    {
     "name": "stdin",
     "output_type": "stream",
     "text": [
      "나이가 어떻게 되나요? 15\n"
     ]
    },
    {
     "data": {
      "text/plain": [
       "15"
      ]
     },
     "execution_count": 3,
     "metadata": {},
     "output_type": "execute_result"
    }
   ],
   "source": [
    "int(input('나이가 어떻게 되나요?')) # int로 형 변환을 해줌"
   ]
  },
  {
   "cell_type": "markdown",
   "id": "970c903e-e0e9-48f4-8ec3-3c4dab5161bc",
   "metadata": {},
   "source": [
    "- 변수에 할당하는 방법"
   ]
  },
  {
   "cell_type": "code",
   "execution_count": 4,
   "id": "d8bb6b9c-9006-45ac-b4fb-3d531fadb870",
   "metadata": {},
   "outputs": [
    {
     "name": "stdin",
     "output_type": "stream",
     "text": [
      "나이가 어떻게 되나요? 15\n"
     ]
    }
   ],
   "source": [
    "#1. \n",
    "age = input('나이가 어떻게 되나요?')"
   ]
  },
  {
   "cell_type": "code",
   "execution_count": 5,
   "id": "95f27103-1464-4058-966e-45bd346252a8",
   "metadata": {},
   "outputs": [
    {
     "data": {
      "text/plain": [
       "'15'"
      ]
     },
     "execution_count": 5,
     "metadata": {},
     "output_type": "execute_result"
    }
   ],
   "source": [
    "age"
   ]
  },
  {
   "cell_type": "code",
   "execution_count": 6,
   "id": "c5c527f4-0244-4ee1-b50e-58c28ffc8b09",
   "metadata": {},
   "outputs": [
    {
     "name": "stdout",
     "output_type": "stream",
     "text": [
      "나이가?\n"
     ]
    },
    {
     "name": "stdin",
     "output_type": "stream",
     "text": [
      " 88\n"
     ]
    }
   ],
   "source": [
    "#2. \n",
    "print(\"나이가?\")\n",
    "age = input()"
   ]
  },
  {
   "cell_type": "code",
   "execution_count": 7,
   "id": "92caaebe-5846-4d75-8fe3-4ff0bbf5a690",
   "metadata": {},
   "outputs": [
    {
     "data": {
      "text/plain": [
       "'88'"
      ]
     },
     "execution_count": 7,
     "metadata": {},
     "output_type": "execute_result"
    }
   ],
   "source": [
    "age"
   ]
  },
  {
   "cell_type": "markdown",
   "id": "10e531c1-0e70-4c67-b9a7-48fd33b8d298",
   "metadata": {},
   "source": [
    "#### Quiz 1\n",
    "- 섭씨를 입력 받아서 화씨로 변환하기\n",
    "- \"섭씨 * 1.8 + 32 = 화씨\""
   ]
  },
  {
   "cell_type": "code",
   "execution_count": 2,
   "id": "db1be0ef-a6aa-465b-acf0-f5e7029e934f",
   "metadata": {},
   "outputs": [
    {
     "name": "stdin",
     "output_type": "stream",
     "text": [
      "섭씨 온도 :  50\n"
     ]
    },
    {
     "name": "stdout",
     "output_type": "stream",
     "text": [
      "화씨 온도 : 122.0\n"
     ]
    }
   ],
   "source": [
    "섭씨 = float(input('섭씨 온도 : '))\n",
    "화씨 = 섭씨 * 1.8 + 32\n",
    "print(f\"화씨 온도 : {화씨}\")"
   ]
  },
  {
   "cell_type": "markdown",
   "id": "90e20ff1-cb48-4ca4-9941-9518eb5ce302",
   "metadata": {},
   "source": [
    "#### Quiz 2\n",
    "- 택배 정보 입력 받고, 총 합계 계산하기\n",
    "- 출력값:\n",
    "    - 수취인 성명: <이름>\n",
    "    - 수취인 주소: <주소>\n",
    "    - 배송비: 3000원\n",
    "    - 물건 비용: <가격>원\n",
    "    - 총 합계: <가격>원\n",
    "- 물건 비용 = 무게(g) * 5\n",
    "- 합계 = 배송비 + 물건 비용"
   ]
  },
  {
   "cell_type": "code",
   "execution_count": 13,
   "id": "fe30f994-cb46-4ee1-9355-97856a3a70bc",
   "metadata": {},
   "outputs": [
    {
     "name": "stdin",
     "output_type": "stream",
     "text": [
      "수취인 성명>>> 채하은\n",
      "수취인 주소>>> 이문동\n",
      "물건 무게 (g)>>>  800\n"
     ]
    },
    {
     "name": "stdout",
     "output_type": "stream",
     "text": [
      "\n",
      "====택배 정보====\n",
      "수취인 성명: 채하은\n",
      "수취인 주소: 이문동\n",
      "배송비: 3000원\n",
      "물건 비용: 4000.0원\n",
      "총 합계: 7000.0원\n"
     ]
    }
   ],
   "source": [
    "name = input('수취인 성명>>>')\n",
    "address = input('수취인 주소>>>')\n",
    "weight = float(input('물건 무게 (g)>>> '))\n",
    "price = weight * 5\n",
    "total = 3000 + price \n",
    "print()\n",
    "print('====택배 정보====')\n",
    "print(f'''수취인 성명: {name}\n",
    "수취인 주소: {address}\n",
    "배송비: 3000원\n",
    "물건 비용: {price}원\n",
    "총 합계: {total}원''')"
   ]
  },
  {
   "cell_type": "markdown",
   "id": "81d2ebfd-dd32-414f-a565-61b5022168f3",
   "metadata": {},
   "source": [
    "#### boolean\n",
    "- 형 변환할 때 True, False인지 기억하라\n",
    "    - '', None, 0, ...\n",
    "- 조건식에서 많이 쓴다. \n",
    "    - 예: 만약 이 조건이 True라면, ..."
   ]
  },
  {
   "cell_type": "code",
   "execution_count": 5,
   "id": "2ec92c2c-a345-45d1-a44a-b056526f068f",
   "metadata": {},
   "outputs": [
    {
     "data": {
      "text/plain": [
       "True"
      ]
     },
     "execution_count": 5,
     "metadata": {},
     "output_type": "execute_result"
    }
   ],
   "source": [
    "bool(1)"
   ]
  },
  {
   "cell_type": "code",
   "execution_count": 6,
   "id": "a170c7a8-5d0d-4a98-9b0c-579805b4e60b",
   "metadata": {},
   "outputs": [
    {
     "data": {
      "text/plain": [
       "False"
      ]
     },
     "execution_count": 6,
     "metadata": {},
     "output_type": "execute_result"
    }
   ],
   "source": [
    "bool('')"
   ]
  },
  {
   "cell_type": "markdown",
   "id": "72223673-2fe0-4111-b843-a10b53f5afa2",
   "metadata": {},
   "source": [
    "#### interger\n",
    "- 소수점 없음\n",
    "- default 양수, 음수는 앞에 -를 붙인다.\n",
    "- 숫자 앞에는 0을 붙일 수 없다. \n",
    "    예: 05\n",
    "    - 예외적으로는 0bxxx, => 다른 진수 표현법\n",
    "- 리터럴: 4\n",
    "- 공백이 많아도 무시가 된다.\n",
    "- 10,000원 -> 10, 000원 두개로 인식 => _ 사용\n",
    "    - 예: 10_000"
   ]
  },
  {
   "cell_type": "code",
   "execution_count": 7,
   "id": "291659cc-b908-4cbf-971c-e231fec871e9",
   "metadata": {},
   "outputs": [
    {
     "data": {
      "text/plain": [
       "-1"
      ]
     },
     "execution_count": 7,
     "metadata": {},
     "output_type": "execute_result"
    }
   ],
   "source": [
    "a = -9\n",
    "8 + a"
   ]
  },
  {
   "cell_type": "code",
   "execution_count": 8,
   "id": "50a9e7d6-a43e-4614-91ee-d8f2ff434d20",
   "metadata": {},
   "outputs": [
    {
     "ename": "SyntaxError",
     "evalue": "leading zeros in decimal integer literals are not permitted; use an 0o prefix for octal integers (2890110653.py, line 1)",
     "output_type": "error",
     "traceback": [
      "\u001b[0;36m  File \u001b[0;32m\"/var/folders/54/cstf0sh546x4t7shxfb0nv780000gn/T/ipykernel_44372/2890110653.py\"\u001b[0;36m, line \u001b[0;32m1\u001b[0m\n\u001b[0;31m    a = 09\u001b[0m\n\u001b[0m         ^\u001b[0m\n\u001b[0;31mSyntaxError\u001b[0m\u001b[0;31m:\u001b[0m leading zeros in decimal integer literals are not permitted; use an 0o prefix for octal integers\n"
     ]
    }
   ],
   "source": [
    "a = 09 #숫자 앞에 0을 붙였기 때문에"
   ]
  },
  {
   "cell_type": "code",
   "execution_count": 9,
   "id": "86fffbd2-160a-4e97-98e1-55867f1a7c85",
   "metadata": {},
   "outputs": [
    {
     "data": {
      "text/plain": [
       "-5"
      ]
     },
     "execution_count": 9,
     "metadata": {},
     "output_type": "execute_result"
    }
   ],
   "source": [
    "-9 + 9             -5"
   ]
  },
  {
   "cell_type": "code",
   "execution_count": 10,
   "id": "e70ab92f-fb18-4d17-84af-2020ec91e49c",
   "metadata": {},
   "outputs": [
    {
     "name": "stdout",
     "output_type": "stream",
     "text": [
      "10000\n"
     ]
    }
   ],
   "source": [
    "a = 10_000\n",
    "print(a)"
   ]
  },
  {
   "cell_type": "markdown",
   "id": "eef76127-3fdf-482c-81c5-2bee0c0e50cc",
   "metadata": {},
   "source": [
    "#### 연산\n",
    "- 연산자|operator: +, -\n",
    "- 피연산자|operand: 4, 5, ...\n",
    "- 수식|expression"
   ]
  },
  {
   "cell_type": "code",
   "execution_count": 11,
   "id": "134f2c00-0301-48fe-898a-755cc3c26f64",
   "metadata": {},
   "outputs": [
    {
     "data": {
      "text/plain": [
       "262144"
      ]
     },
     "execution_count": 11,
     "metadata": {},
     "output_type": "execute_result"
    }
   ],
   "source": [
    "x = 4\n",
    "y = 9\n",
    "\n",
    "x + y\n",
    "x - y\n",
    "x * y\n",
    "x / y\n",
    "\n",
    "#거듭제곱|exponential\n",
    "x ** y"
   ]
  },
  {
   "cell_type": "code",
   "execution_count": 14,
   "id": "36ace615-9c50-4d98-83a7-79ed2a8b5f3a",
   "metadata": {},
   "outputs": [
    {
     "data": {
      "text/plain": [
       "(0, 4, 0.4444444444444444)"
      ]
     },
     "execution_count": 14,
     "metadata": {},
     "output_type": "execute_result"
    }
   ],
   "source": [
    "#1. division by zero => 주의 (y!=0)\n",
    "\n",
    "#2. 몫, 나머지 , 소수점까지의 몫\n",
    "x // y, x % y, x / y"
   ]
  },
  {
   "cell_type": "code",
   "execution_count": 16,
   "id": "9ffacb6d-947e-4144-b512-3982047e8d83",
   "metadata": {},
   "outputs": [
    {
     "data": {
      "text/plain": [
       "(0, 4)"
      ]
     },
     "execution_count": 16,
     "metadata": {},
     "output_type": "execute_result"
    }
   ],
   "source": [
    "divmod(x, y) # (몫, 나머지)"
   ]
  },
  {
   "cell_type": "markdown",
   "id": "4aea9560-09c8-4d98-be86-6512477bd0d7",
   "metadata": {},
   "source": [
    "#### 복합 대입연산자|compound assignment operator"
   ]
  },
  {
   "cell_type": "code",
   "execution_count": 17,
   "id": "46274532-7b57-4700-afc7-0e9a3e862850",
   "metadata": {},
   "outputs": [
    {
     "name": "stdout",
     "output_type": "stream",
     "text": [
      "5\n"
     ]
    }
   ],
   "source": [
    "a = 5\n",
    "a - 3\n",
    "print(a)"
   ]
  },
  {
   "cell_type": "code",
   "execution_count": 18,
   "id": "85413fa9-2911-413a-91a4-5b61aaae63c1",
   "metadata": {},
   "outputs": [],
   "source": [
    "a = a - 3\n",
    "#1. a-3 계산\n",
    "#2. 임시변수 temp = a-3\n",
    "#3. a = a - \n",
    "\n",
    "a-=3"
   ]
  },
  {
   "cell_type": "code",
   "execution_count": 19,
   "id": "c60caeaf-6f5f-4629-abd9-a7db40a72345",
   "metadata": {},
   "outputs": [],
   "source": [
    "a += 3\n",
    "a -= 3\n",
    "a *= 3\n",
    "a /= 3"
   ]
  },
  {
   "cell_type": "code",
   "execution_count": 20,
   "id": "e4edbab5-8ac2-482d-8e64-7997b0b776b3",
   "metadata": {},
   "outputs": [
    {
     "ename": "SyntaxError",
     "evalue": "invalid syntax (1919254977.py, line 1)",
     "output_type": "error",
     "traceback": [
      "\u001b[0;36m  File \u001b[0;32m\"/var/folders/54/cstf0sh546x4t7shxfb0nv780000gn/T/ipykernel_44372/1919254977.py\"\u001b[0;36m, line \u001b[0;32m1\u001b[0m\n\u001b[0;31m    u = ? # 값 초기화할 것\u001b[0m\n\u001b[0m        ^\u001b[0m\n\u001b[0;31mSyntaxError\u001b[0m\u001b[0;31m:\u001b[0m invalid syntax\n"
     ]
    }
   ],
   "source": [
    "u = ? # 값 초기화할 것\n",
    "u = u + 1 # u라는 값이 초기화가 되지 않았기 때문에"
   ]
  },
  {
   "cell_type": "markdown",
   "id": "4dec8b71-d37a-4c0a-85d2-1a8a9196235b",
   "metadata": {},
   "source": [
    "### Quiz 3.\n",
    "- 정수를 입력 받고 3의 배수인지 확인하세요.\n",
    "- = 홀수인지 확인하세요"
   ]
  },
  {
   "cell_type": "code",
   "execution_count": 23,
   "id": "89c7076f-1d35-41f8-b52e-c51c49f968fd",
   "metadata": {},
   "outputs": [
    {
     "name": "stdin",
     "output_type": "stream",
     "text": [
      "점수를 입력하세요: 4\n"
     ]
    },
    {
     "data": {
      "text/plain": [
       "False"
      ]
     },
     "execution_count": 23,
     "metadata": {},
     "output_type": "execute_result"
    }
   ],
   "source": [
    "정수 = int(input('점수를 입력하세요:'))\n",
    "홀수 = 정수 % 2 == 1\n",
    "정수 == 홀수"
   ]
  },
  {
   "cell_type": "markdown",
   "id": "03e2b681-f4e1-448c-9a2f-bb0babf88625",
   "metadata": {},
   "source": [
    "#### 지수 표현\n",
    "- e, E 둘다 가능하다\n",
    "- 앞부분은 float, int\n",
    "- 뒷부분은 int만 온다.\n",
    "    - 양수면 0 앞으로\n",
    "    - 음수면 0 뒤로 (소수점)"
   ]
  },
  {
   "cell_type": "code",
   "execution_count": 1,
   "id": "6a44bec0-09e5-47d3-8815-11efd5b3a095",
   "metadata": {},
   "outputs": [
    {
     "data": {
      "text/plain": [
       "1000.0"
      ]
     },
     "execution_count": 1,
     "metadata": {},
     "output_type": "execute_result"
    }
   ],
   "source": [
    "1.0e3# float"
   ]
  },
  {
   "cell_type": "code",
   "execution_count": null,
   "id": "fe758f85-46aa-499b-868b-3ecdc141592c",
   "metadata": {
    "tags": []
   },
   "outputs": [],
   "source": [
    " # 0.000789 => 지수표현 \n",
    "7.89e\n",
    "789e\n",
    "0.0789e # 굳이 그럴 필요는 없음"
   ]
  },
  {
   "cell_type": "markdown",
   "id": "5d6a067c-b52a-4bf2-9928-abacf127e99c",
   "metadata": {},
   "source": [
    "#### 조건문, if\n",
    "- code structure"
   ]
  },
  {
   "cell_type": "markdown",
   "id": "fb7c8354-9d6d-45d9-ac73-d5e02b191d50",
   "metadata": {},
   "source": [
    "### 코드 짜는 룰\n",
    "- 주석 다는 법\n",
    "    - 설명하는 부분\n",
    "    - 목적: 의도를 표현한다, \n",
    "    - '#' hash, sharp, ...\n",
    "    - 시작된 부분부터 그 라인의 끝까지가 주석\n",
    "    - 문자열 안에 들어있는 해시는 문자열로 인식\n",
    "    - \"\"\"<주석>\"\"\"\n",
    "    \n",
    "- 라인 유지하기\n",
    "    - 들여쓰기, 공백 4개, 탭 1개\n",
    "    - 한 줄에 최대 80자 넘지 않게\n",
    "    - 뱃슬래시로 끊어준다 (\\)"
   ]
  },
  {
   "cell_type": "code",
   "execution_count": 4,
   "id": "8f556693-b487-4c55-a648-98b5f635b7d1",
   "metadata": {},
   "outputs": [],
   "source": [
    "a = 3 # 여기부터 라인 끝\n",
    "b = 2"
   ]
  },
  {
   "cell_type": "code",
   "execution_count": 5,
   "id": "d2814bae-c333-4102-892f-80b14c74586f",
   "metadata": {},
   "outputs": [
    {
     "name": "stdout",
     "output_type": "stream",
     "text": [
      "hey ###\n"
     ]
    },
    {
     "data": {
      "text/plain": [
       "'\\n주석1\\n주석2\\n주석3\\n'"
      ]
     },
     "execution_count": 5,
     "metadata": {},
     "output_type": "execute_result"
    }
   ],
   "source": [
    "example = 'hey ###'\n",
    "\n",
    "print(example)\n",
    "\n",
    "\"\"\"\n",
    "주석1\n",
    "주석2\n",
    "주석3\n",
    "\"\"\""
   ]
  },
  {
   "cell_type": "code",
   "execution_count": 6,
   "id": "43fe0c9c-59e3-48f8-ae85-d6cdf10365b1",
   "metadata": {},
   "outputs": [
    {
     "ename": "SyntaxError",
     "evalue": "invalid syntax (3701530689.py, line 1)",
     "output_type": "error",
     "traceback": [
      "\u001b[0;36m  File \u001b[0;32m\"/var/folders/54/cstf0sh546x4t7shxfb0nv780000gn/T/ipykernel_29305/3701530689.py\"\u001b[0;36m, line \u001b[0;32m1\u001b[0m\n\u001b[0;31m    if ....:\u001b[0m\n\u001b[0m           ^\u001b[0m\n\u001b[0;31mSyntaxError\u001b[0m\u001b[0;31m:\u001b[0m invalid syntax\n"
     ]
    }
   ],
   "source": [
    "if ....:\n",
    "    ###"
   ]
  },
  {
   "cell_type": "markdown",
   "id": "a15f39e9-0a6c-4f9f-b57f-153be3138022",
   "metadata": {},
   "source": [
    "- 조건 1개\n",
    "if <조건식>:\n",
    "    <실행할 코드>"
   ]
  },
  {
   "cell_type": "code",
   "execution_count": 7,
   "id": "f61d5ac2-4e7e-482f-9028-64984ebb3ddb",
   "metadata": {},
   "outputs": [
    {
     "name": "stdout",
     "output_type": "stream",
     "text": [
      "Yaay!\n"
     ]
    }
   ],
   "source": [
    "if 4 != 9:\n",
    "    print('Yaay!')"
   ]
  },
  {
   "cell_type": "markdown",
   "id": "6bd62e00-b3e2-47aa-bf0a-67ad94df5b49",
   "metadata": {},
   "source": [
    "- 조건 2개:\n",
    "    if <조건식1>:\n",
    "        <실행할 코드>\n",
    "    else:\n",
    "        <실행할 코드2>"
   ]
  },
  {
   "cell_type": "code",
   "execution_count": 8,
   "id": "493b8780-0426-43c5-b955-7752aa2b15b6",
   "metadata": {},
   "outputs": [
    {
     "name": "stdout",
     "output_type": "stream",
     "text": [
      "Hey!\n"
     ]
    }
   ],
   "source": [
    "if 4 == 9:\n",
    "    print('Yaay!')\n",
    "else:\n",
    "    print('Hey!')"
   ]
  },
  {
   "cell_type": "markdown",
   "id": "46e391cc-c974-4a47-a403-0b307eed6a66",
   "metadata": {},
   "source": [
    "- 조건 3개 이상:\n",
    "    if <조건식1>:\n",
    "        <실행할 코드>\n",
    "    elif <조건식2>:\n",
    "        <실행할 코드2>\n",
    "        \n",
    "    else:\n",
    "        <실행할 코드3>"
   ]
  },
  {
   "cell_type": "markdown",
   "id": "d49f5736-5f03-4dee-ba4f-7196520b84f0",
   "metadata": {},
   "source": [
    "#### 비교연산자\n",
    "- x < y, x <= y\n",
    "- x > y, x >= y\n",
    "- x == y (값)\n",
    "- x != y (값)\n",
    "- x is y (값, 메모리주소)\n",
    "- x is not y"
   ]
  },
  {
   "cell_type": "markdown",
   "id": "2ff343dd-7ed3-4e34-8d56-2997b92a40df",
   "metadata": {},
   "source": [
    "### Quiz 1.\n",
    "- 학점 부여하기\n",
    "- 학점을 입력 받아서\n",
    "    - 90점 이상이면 A\n",
    "    - 80, B\n",
    "    - 70, C\n",
    "    - 그외, D\n",
    "- 변수 설정 유의"
   ]
  },
  {
   "cell_type": "code",
   "execution_count": 10,
   "id": "b8465ca5-7a6e-41ab-9fa8-573a4f617e5d",
   "metadata": {},
   "outputs": [
    {
     "name": "stdin",
     "output_type": "stream",
     "text": [
      "점수를 입력하세요:  88\n"
     ]
    },
    {
     "name": "stdout",
     "output_type": "stream",
     "text": [
      "B\n"
     ]
    }
   ],
   "source": [
    "score = int(input('점수를 입력하세요: '))\n",
    "\n",
    "if score >=90:\n",
    "    print('A')\n",
    "elif score >=80:\n",
    "    print('B')\n",
    "elif score >=70:\n",
    "    print('c')   \n",
    "else:\n",
    "    print('D')   "
   ]
  },
  {
   "cell_type": "markdown",
   "id": "7bd8234a-1bb9-4a8c-8e0a-6f53b7c818c2",
   "metadata": {},
   "source": [
    "### Quiz 2.\n",
    "- 아이디와 비번 입력 받아서 둘다 일치하면 로그인하기\n",
    "- 아이디, 비번 각자 정해놓기\n",
    "- 일치하지 않을 때에는 창의적으로 어떤 걸로 변환하기"
   ]
  },
  {
   "cell_type": "code",
   "execution_count": 14,
   "id": "be56319c-69a8-4f21-ac10-ddeb22196916",
   "metadata": {},
   "outputs": [
    {
     "name": "stdin",
     "output_type": "stream",
     "text": [
      "아이디를 입력하세요:  gkdms\n",
      "비밀번호를 입력하세요:  1121\n"
     ]
    },
    {
     "name": "stdout",
     "output_type": "stream",
     "text": [
      "로그인 되었습니다.\n"
     ]
    }
   ],
   "source": [
    "id_official = \"gkdms\"\n",
    "password_official = \"1121\"\n",
    "\n",
    "id_personal = input(\"아이디를 입력하세요: \")\n",
    "password_personal = input(\"비밀번호를 입력하세요: \")\n",
    "\n",
    "if id_personal == id_official:\n",
    "    if password_personal == password_official:\n",
    "        print(\"로그인 되었습니다.\")\n",
    "    else:\n",
    "        print(\"비밀번호가 일치하지 않습니다.\")\n",
    "else :\n",
    "    print(\"아이디가 존재하지 않습니다.\")"
   ]
  },
  {
   "cell_type": "markdown",
   "id": "509bbb92-93c4-4454-b0a3-30c2399ccfe3",
   "metadata": {},
   "source": [
    "#### 논리연산자\n",
    "- 여러 조건식을 비교할 때\n",
    "- 예: 10 < x < 20\n",
    "    - 파이썬에서만 가능한 표현\n",
    "    - x > 10 혹은 x < 20\n",
    "    \n",
    "- and, & : 둘다 참일 때 True\n",
    "- or, | : 둘 중 하나만 참이여도 True\n",
    "- not : cka -> False, 거짓 -> True"
   ]
  },
  {
   "cell_type": "markdown",
   "id": "3f93c58c-d489-4b8e-98e5-ebe18f856910",
   "metadata": {},
   "source": [
    "### Quiz 3. \n",
    "- quiz 2 확장판\n",
    "- 결석 횟수를 받아서 점수가 80점 이상인데 결석이 2번 이상이면 F, 나머지는 점수대로\n",
    "    - 논리연산자 사용\n",
    "    - if 구로즐 크게 2번 가져갈 수 있다"
   ]
  },
  {
   "cell_type": "code",
   "execution_count": 12,
   "id": "2fcaa918-e271-4b57-8d5b-a55c4cf1e55f",
   "metadata": {},
   "outputs": [
    {
     "name": "stdin",
     "output_type": "stream",
     "text": [
      "점수를 입력하세요: 90\n",
      "결석 횟수를 입력하세요: 5\n"
     ]
    },
    {
     "name": "stdout",
     "output_type": "stream",
     "text": [
      "F\n"
     ]
    }
   ],
   "source": [
    "grade = int(input('점수를 입력하세요:'))\n",
    "attendance = int(input('결석 횟수를 입력하세요:'))\n",
    "\n",
    "if attendance >= 2 :\n",
    "    print('F')\n",
    "else :\n",
    "    if grade >= 90:\n",
    "        print('A')\n",
    "    elif grade >= 80 :\n",
    "        print('B')\n",
    "    elif grade >= 70:\n",
    "        print('C') \n",
    "    else:\n",
    "        print('D')"
   ]
  },
  {
   "cell_type": "code",
   "execution_count": null,
   "id": "cb167b81-d99c-4ba7-8953-f4badc7e3314",
   "metadata": {},
   "outputs": [],
   "source": []
  }
 ],
 "metadata": {
  "kernelspec": {
   "display_name": "Python 3 (ipykernel)",
   "language": "python",
   "name": "python3"
  },
  "language_info": {
   "codemirror_mode": {
    "name": "ipython",
    "version": 3
   },
   "file_extension": ".py",
   "mimetype": "text/x-python",
   "name": "python",
   "nbconvert_exporter": "python",
   "pygments_lexer": "ipython3",
   "version": "3.9.7"
  }
 },
 "nbformat": 4,
 "nbformat_minor": 5
}
