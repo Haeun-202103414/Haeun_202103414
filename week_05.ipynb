{
 "cells": [
  {
   "cell_type": "markdown",
   "id": "db406943-7b04-4eaa-8399-a7eeef314b67",
   "metadata": {},
   "source": [
    "### 반복문\n",
    "- while,for loop #정해진 문장을 반복해야 할때\n",
    "\n",
    "### while loop\n",
    "- 어떤 조건이 만족하는 동안 명령 블록을 수행한다.\n",
    "- If + for loop\n",
    "- 해당 조건이 거짓이면 멈춘다. => 언제 멈추는지 그 시점을 정확히 파악해야 함.\n",
    "\n",
    "### for vs. while\n",
    "- for: 반복 횟수가 정해짐, 정확함. 변하지 않음\n",
    "    - 예: 성적 산출\n",
    "- while: 횟수 정해지지 않음. (중요하지 않다) 어떤 조건을 만족시킬 때 빠져나오게 하는 게 중요할 때 사용.\n",
    "    - 예: 가위바위보"
   ]
  },
  {
   "cell_type": "code",
   "execution_count": 1,
   "id": "1b582840-b08f-4bb9-848b-cc0f2d4c838a",
   "metadata": {
    "tags": []
   },
   "outputs": [
    {
     "name": "stdout",
     "output_type": "stream",
     "text": [
      "0\n",
      "1\n",
      "2\n",
      "3\n",
      "4\n",
      "5\n",
      "6\n",
      "7\n",
      "8\n",
      "9\n"
     ]
    }
   ],
   "source": [
    "for i in range(10):\n",
    "    print(i)"
   ]
  },
  {
   "cell_type": "code",
   "execution_count": 3,
   "id": "c253f062-350d-4dd8-91ee-75a22816d363",
   "metadata": {},
   "outputs": [
    {
     "name": "stdout",
     "output_type": "stream",
     "text": [
      "0\n",
      "1\n",
      "2\n"
     ]
    }
   ],
   "source": [
    "j = 0 #초기화블럭\n",
    "while j < 3: #0,1,2,False\n",
    "    print(j) #0,1,2\n",
    "    j+=1 #변화블럭 1,2,3"
   ]
  },
  {
   "cell_type": "code",
   "execution_count": 4,
   "id": "0cc93c27-0520-423a-96fe-461f7a67723d",
   "metadata": {},
   "outputs": [
    {
     "data": {
      "text/plain": [
       "3"
      ]
     },
     "execution_count": 4,
     "metadata": {},
     "output_type": "execute_result"
    }
   ],
   "source": [
    "j"
   ]
  },
  {
   "cell_type": "code",
   "execution_count": 5,
   "id": "17ebd1e7-4bb2-4cd9-a128-3dcfbf648eb9",
   "metadata": {},
   "outputs": [
    {
     "name": "stdout",
     "output_type": "stream",
     "text": [
      "a\n",
      "b\n",
      "c\n",
      "d\n"
     ]
    }
   ],
   "source": [
    "abcd = ['a','b','c','d']\n",
    "for ch in abcd:\n",
    "    print(ch)"
   ]
  },
  {
   "cell_type": "code",
   "execution_count": 6,
   "id": "7368ca95-af3e-495d-b357-b7daa70302be",
   "metadata": {},
   "outputs": [
    {
     "name": "stdout",
     "output_type": "stream",
     "text": [
      "a\n",
      "b\n",
      "c\n",
      "d\n"
     ]
    }
   ],
   "source": [
    "i = 0\n",
    "while i < len(abcd):\n",
    "    print(abcd[i])\n",
    "    i+=1"
   ]
  },
  {
   "cell_type": "markdown",
   "id": "2d8a2270-560d-40db-95aa-58c946bca12a",
   "metadata": {},
   "source": [
    "### 반복문 제어\n",
    "- 되도록 사용하지 않는다. 의도치 않은 오류를 위해\n",
    "\n",
    "- break: 논리적으로 반복을 종료시킬 때 사용\n",
    "- else: 어떤 조건이 완전히 끝났을 때 한번 더 실행함. break시에 실행 안 됨. => 어느 지점에서 종료되었는지 확인할 때 사용.\n",
    "- continue: 특정 조건을 건너뛰고 다음 조건 실행"
   ]
  },
  {
   "cell_type": "code",
   "execution_count": 13,
   "id": "98f6d1c8-97cb-4888-9f83-61cc292aad81",
   "metadata": {
    "tags": []
   },
   "outputs": [
    {
     "name": "stdout",
     "output_type": "stream",
     "text": [
      "0\n",
      "1\n",
      "2\n",
      "3\n",
      "4\n",
      "5\n",
      "6\n"
     ]
    }
   ],
   "source": [
    "j = 0 \n",
    "while j < 10: \n",
    "    print(j) \n",
    "    if j == 6: break\n",
    "    j+=1\n",
    "else:\n",
    "    print('ended')"
   ]
  },
  {
   "cell_type": "code",
   "execution_count": 15,
   "id": "49e3e396-a027-4e19-9a07-119c0bff3ebb",
   "metadata": {},
   "outputs": [
    {
     "name": "stdout",
     "output_type": "stream",
     "text": [
      "0\n",
      "1\n",
      "2\n",
      "3\n",
      "4\n",
      "5\n",
      "7\n",
      "8\n",
      "9\n",
      "ended\n"
     ]
    }
   ],
   "source": [
    "for i in range(10):\n",
    "    if i == 6: continue\n",
    "    print(i) #6 출력 안 됨 / 근데 i 값은 6이다.\n",
    "else:\n",
    "    print('ended')"
   ]
  },
  {
   "cell_type": "code",
   "execution_count": 9,
   "id": "7c277290-c29e-4d4f-a727-65e9f464c781",
   "metadata": {},
   "outputs": [
    {
     "data": {
      "text/plain": [
       "6"
      ]
     },
     "execution_count": 9,
     "metadata": {},
     "output_type": "execute_result"
    }
   ],
   "source": [
    "i"
   ]
  },
  {
   "cell_type": "markdown",
   "id": "9fc373d6-e6d3-4105-bf65-ddb9d0c7fba6",
   "metadata": {},
   "source": [
    "### gugudan\n",
    "변수는 입력을 받아서 사용함.\n",
    "- 1. n단 출력\n",
    "- 2. 1-n단까지 출력\n",
    "    - n > 10 경우 대비\n",
    "- 3. n, m 모두 입력 받아서 출력\n",
    "- 4. 프로그램으로 만듦.\n",
    "    - 메뉴: 1) n, 2) 1-n, 3)n-m단\n",
    "    - 메뉴에 없는 옵션을 선택할 때"
   ]
  },
  {
   "cell_type": "code",
   "execution_count": 21,
   "id": "7468e36e-5172-44bb-acb3-38775b58f649",
   "metadata": {
    "collapsed": true,
    "jupyter": {
     "outputs_hidden": true
    },
    "tags": []
   },
   "outputs": [
    {
     "name": "stdin",
     "output_type": "stream",
     "text": [
      "구구단 단을 입력하세요 2\n"
     ]
    },
    {
     "name": "stdout",
     "output_type": "stream",
     "text": [
      "2 x 1 = 2\n",
      "2 x 2 = 4\n",
      "2 x 3 = 6\n",
      "2 x 4 = 8\n",
      "2 x 5 = 10\n",
      "2 x 6 = 12\n",
      "2 x 7 = 14\n",
      "2 x 8 = 16\n",
      "2 x 9 = 18\n"
     ]
    }
   ],
   "source": [
    "n = int(input('구구단 단을 입력하세요'))\n",
    "i = 1\n",
    "while i < 10:\n",
    "    print(f'{n} x {i} = {n*i}')\n",
    "    i+=1"
   ]
  },
  {
   "cell_type": "code",
   "execution_count": 23,
   "id": "e407c501-8e24-4472-bdef-922a9c1f84d7",
   "metadata": {
    "collapsed": true,
    "jupyter": {
     "outputs_hidden": true
    },
    "tags": []
   },
   "outputs": [
    {
     "name": "stdin",
     "output_type": "stream",
     "text": [
      "구구단 단을 입력하세요 3\n"
     ]
    },
    {
     "name": "stdout",
     "output_type": "stream",
     "text": [
      "1 x 1 = 1\n",
      "1 x 2 = 2\n",
      "1 x 3 = 3\n",
      "1 x 4 = 4\n",
      "1 x 5 = 5\n",
      "1 x 6 = 6\n",
      "1 x 7 = 7\n",
      "1 x 8 = 8\n",
      "1 x 9 = 9\n",
      "\n",
      "2 x 1 = 2\n",
      "2 x 2 = 4\n",
      "2 x 3 = 6\n",
      "2 x 4 = 8\n",
      "2 x 5 = 10\n",
      "2 x 6 = 12\n",
      "2 x 7 = 14\n",
      "2 x 8 = 16\n",
      "2 x 9 = 18\n",
      "\n",
      "3 x 1 = 3\n",
      "3 x 2 = 6\n",
      "3 x 3 = 9\n",
      "3 x 4 = 12\n",
      "3 x 5 = 15\n",
      "3 x 6 = 18\n",
      "3 x 7 = 21\n",
      "3 x 8 = 24\n",
      "3 x 9 = 27\n",
      "\n"
     ]
    }
   ],
   "source": [
    "n = int(input('구구단 단을 입력하세요'))\n",
    "for i in range(1, n+1):\n",
    "    for j in range(1, 10):\n",
    "        print(f'{i} x {j} = {i*j}')\n",
    "    print()"
   ]
  },
  {
   "cell_type": "code",
   "execution_count": 28,
   "id": "93914b67-1614-41b6-88c9-02a872dca1f6",
   "metadata": {
    "tags": []
   },
   "outputs": [
    {
     "name": "stdin",
     "output_type": "stream",
     "text": [
      "시작단을 입력하세요 3\n",
      "끝단을 입력하세요 6\n"
     ]
    },
    {
     "name": "stdout",
     "output_type": "stream",
     "text": [
      "1 x 1 = 1\n",
      "1 x 2 = 2\n",
      "1 x 3 = 3\n",
      "1 x 4 = 4\n",
      "1 x 5 = 5\n",
      "1 x 6 = 6\n",
      "1 x 7 = 7\n",
      "1 x 8 = 8\n",
      "1 x 9 = 9\n",
      "\n"
     ]
    }
   ],
   "source": [
    "n = int(input('시작단을 입력하세요'))\n",
    "m = int(input('끝단을 입력하세요'))\n",
    "if n > m:\n",
    "    print(\"시작단이 끝단보다 큽니다. 다시 입력하세요.\")\n",
    "    n = int(input('시작단을 입력하세요'))\n",
    "    m = int(input('끝단을 입력하세요'))\n",
    "else:\n",
    "    for i in range(n, m+1):\n",
    "        for j in range(1, 10):\n",
    "            print(f'{i} x {j} = {i*j}')\n",
    "        print()"
   ]
  },
  {
   "cell_type": "code",
   "execution_count": 4,
   "id": "6e42ce82-0066-45f7-9f89-cc97c7b523cb",
   "metadata": {},
   "outputs": [
    {
     "name": "stdout",
     "output_type": "stream",
     "text": [
      "*** Introductory Examples for the NLTK Book ***\n",
      "Loading text1, ..., text9 and sent1, ..., sent9\n",
      "Type the name of the text or sentence to view it.\n",
      "Type: 'texts()' or 'sents()' to list the materials.\n",
      "text1: Moby Dick by Herman Melville 1851\n",
      "text2: Sense and Sensibility by Jane Austen 1811\n",
      "text3: The Book of Genesis\n",
      "text4: Inaugural Address Corpus\n",
      "text5: Chat Corpus\n",
      "text6: Monty Python and the Holy Grail\n",
      "text7: Wall Street Journal\n",
      "text8: Personals Corpus\n",
      "text9: The Man Who Was Thursday by G . K . Chesterton 1908\n"
     ]
    },
    {
     "data": {
      "text/plain": [
       "True"
      ]
     },
     "execution_count": 4,
     "metadata": {},
     "output_type": "execute_result"
    }
   ],
   "source": [
    "import nltk\n",
    "from nltk.book import *\n",
    "nltk.download('book', quiet=True)"
   ]
  },
  {
   "cell_type": "code",
   "execution_count": 10,
   "id": "377ca681-4482-40d5-a82d-cd1487896abc",
   "metadata": {},
   "outputs": [],
   "source": [
    "# text1 -9\n",
    " # text1 vs. 'text1'\n",
    " # text1 -9 string 가져오기\n",
    " # string -> fx. getattr(library, 'string_name')"
   ]
  },
  {
   "cell_type": "code",
   "execution_count": null,
   "id": "4627453f-3388-4fce-8adb-182d7d674cb0",
   "metadata": {},
   "outputs": [],
   "source": [
    "texts = [text1, text2, …, text9]"
   ]
  },
  {
   "cell_type": "code",
   "execution_count": 7,
   "id": "e2d83c37-6ae7-4181-81e8-2c2c84114c36",
   "metadata": {},
   "outputs": [
    {
     "data": {
      "text/plain": [
       "(<Text: Moby Dick by Herman Melville 1851>, 'text1')"
      ]
     },
     "execution_count": 7,
     "metadata": {},
     "output_type": "execute_result"
    }
   ],
   "source": [
    "text1, 'text1'"
   ]
  },
  {
   "cell_type": "markdown",
   "id": "00a45d4c-7046-49e1-8d43-618e0ccf3331",
   "metadata": {},
   "source": [
    "### NLTK corpus\n",
    "- 코퍼스 + 테마\n",
    "- 종류\n",
    "    - brown\n",
    "    - gutenberg\n",
    "    - inaugural\n",
    "- methods\n",
    "    - words() #tokens\n",
    "    - sents()\n",
    "    - raw\n",
    "    - fileids()"
   ]
  },
  {
   "cell_type": "code",
   "execution_count": 36,
   "id": "b31863cd-edd9-41b7-84f6-5805f788a1da",
   "metadata": {},
   "outputs": [
    {
     "name": "stderr",
     "output_type": "stream",
     "text": [
      "[nltk_data] Downloading package brown to /Users/chaeha-\n",
      "[nltk_data]     eun/nltk_data...\n",
      "[nltk_data]   Package brown is already up-to-date!\n",
      "[nltk_data] Downloading package gutenberg to /Users/chaeha-\n",
      "[nltk_data]     eun/nltk_data...\n",
      "[nltk_data]   Package gutenberg is already up-to-date!\n",
      "[nltk_data] Downloading package inaugural to /Users/chaeha-\n",
      "[nltk_data]     eun/nltk_data...\n",
      "[nltk_data]   Package inaugural is already up-to-date!\n"
     ]
    },
    {
     "data": {
      "text/plain": [
       "True"
      ]
     },
     "execution_count": 36,
     "metadata": {},
     "output_type": "execute_result"
    }
   ],
   "source": [
    "from nltk.corpus import gutenberg\n",
    "nltk.download(['brown', 'gutenberg','inaugural'])"
   ]
  },
  {
   "cell_type": "code",
   "execution_count": 37,
   "id": "eff43fbf-3f30-41cb-85ed-6e394abe8e12",
   "metadata": {},
   "outputs": [
    {
     "data": {
      "text/plain": [
       "<PlaintextCorpusReader in '/Users/chaeha-eun/nltk_data/corpora/gutenberg'>"
      ]
     },
     "execution_count": 37,
     "metadata": {},
     "output_type": "execute_result"
    }
   ],
   "source": [
    "gutenberg"
   ]
  },
  {
   "cell_type": "code",
   "execution_count": 38,
   "id": "e2249855-3da9-45b6-bade-8f857ddf7a51",
   "metadata": {},
   "outputs": [
    {
     "data": {
      "text/plain": [
       "['austen-emma.txt',\n",
       " 'austen-persuasion.txt',\n",
       " 'austen-sense.txt',\n",
       " 'bible-kjv.txt',\n",
       " 'blake-poems.txt',\n",
       " 'bryant-stories.txt',\n",
       " 'burgess-busterbrown.txt',\n",
       " 'carroll-alice.txt',\n",
       " 'chesterton-ball.txt',\n",
       " 'chesterton-brown.txt',\n",
       " 'chesterton-thursday.txt',\n",
       " 'edgeworth-parents.txt',\n",
       " 'melville-moby_dick.txt',\n",
       " 'milton-paradise.txt',\n",
       " 'shakespeare-caesar.txt',\n",
       " 'shakespeare-hamlet.txt',\n",
       " 'shakespeare-macbeth.txt',\n",
       " 'whitman-leaves.txt']"
      ]
     },
     "execution_count": 38,
     "metadata": {},
     "output_type": "execute_result"
    }
   ],
   "source": [
    "gutenberg.fileids()"
   ]
  },
  {
   "cell_type": "code",
   "execution_count": 39,
   "id": "afa65c4d-a1c9-4dad-be12-3dbfb98ffbac",
   "metadata": {},
   "outputs": [
    {
     "data": {
      "text/plain": [
       "['[', 'Alice', \"'\", 's', 'Adventures', 'in', ...]"
      ]
     },
     "execution_count": 39,
     "metadata": {},
     "output_type": "execute_result"
    }
   ],
   "source": [
    "gutenberg.words(fileids = ['carroll-alice.txt','austen-emma.txt'])"
   ]
  },
  {
   "cell_type": "code",
   "execution_count": null,
   "id": "df7141a5-7bb8-4ded-b847-e6cae0e1b37e",
   "metadata": {},
   "outputs": [],
   "source": [
    "#각 파일마다 word, character, sents 개수 출력하기"
   ]
  },
  {
   "cell_type": "code",
   "execution_count": 40,
   "id": "ef9bf73f-a047-4c1d-b4f6-d45f5eb29e9d",
   "metadata": {},
   "outputs": [
    {
     "name": "stdout",
     "output_type": "stream",
     "text": [
      "austen-emma1924277752887071\n",
      "austen-persuasion981713747466292\n",
      "austen-sense1415764999673022\n",
      "bible-kjv1010654301034332554\n",
      "blake-poems835443838153\n",
      "bryant-stories555632863249439\n",
      "burgess-busterbrown18963105484663\n",
      "carroll-alice341101703144395\n",
      "chesterton-ball969964779457450\n",
      "chesterton-brown860633806406629\n",
      "chesterton-thursday692133742320525\n",
      "edgeworth-parents21066310230935158\n",
      "melville-moby_dick260819100591242990\n",
      "milton-paradise968251851468220\n",
      "shakespeare-caesar258332163112310\n",
      "shakespeare-hamlet373603106162881\n",
      "shakespeare-macbeth231401907100351\n",
      "whitman-leaves1548834250711215\n"
     ]
    }
   ],
   "source": [
    "for file in gutenberg.fileids():\n",
    "    words = gutenberg.words(file)\n",
    "    sents = gutenberg.sents(file)\n",
    "    characters = gutenberg.raw(file)\n",
    "    \n",
    "    print('{}{}{}{}'.format(file[:-4], len(words), len(sents), len(characters)))"
   ]
  },
  {
   "cell_type": "markdown",
   "id": "ad2b12b7-817b-40af-9c01-e6053bdd3472",
   "metadata": {
    "tags": []
   },
   "source": []
  },
  {
   "cell_type": "markdown",
   "id": "27d4d6aa-899a-42d7-a89c-e2e4d3d43038",
   "metadata": {},
   "source": [
    "### Gutenberg\n",
    "- 1. shakespeare-caesar의 중복된 단어를 거르고 각 단어의 길이를 출력하시오.\n",
    "- 2. chesterton-thursday에서 길이가 4자 이하인 알파벳 중 ie를 포함하는 단어를 소문자로 출력하고, 개수를 세어라\n",
    "- 3. bryant-stories에서 ch로 끝나는 단어를 출력하는데, 중복 없이, 첫글자(모두 소문자)와 끝 ch만 남기고 가운데 글자들은 모두 -로 가려라. 예: much -> m-ch"
   ]
  },
  {
   "cell_type": "code",
   "execution_count": 44,
   "id": "0f5f542d-9b15-43ec-90ed-c4d2ef7c0cb7",
   "metadata": {},
   "outputs": [
    {
     "name": "stdout",
     "output_type": "stream",
     "text": [
      "[5, 7, 5, 6, 7, 7, 6, 3, 6, 6]\n"
     ]
    }
   ],
   "source": [
    "ex = [len(word.lower()) for word in set((gutenberg.words('shakespeare-caesar.txt')))]\n",
    "print(ex[:10])"
   ]
  },
  {
   "cell_type": "markdown",
   "id": "f7c37207-d4b3-440b-8178-5d44f4a19ce6",
   "metadata": {},
   "source": [
    "### Brown\n",
    "- categories()"
   ]
  },
  {
   "cell_type": "code",
   "execution_count": 45,
   "id": "3ffdb2a4-2c95-4a1b-aa8d-aa7e84c8014a",
   "metadata": {},
   "outputs": [],
   "source": [
    "brown = nltk.corpus.brown"
   ]
  },
  {
   "cell_type": "code",
   "execution_count": 46,
   "id": "49de163e-4eae-4777-b046-c9f87de6a26c",
   "metadata": {},
   "outputs": [
    {
     "data": {
      "text/plain": [
       "['adventure',\n",
       " 'belles_lettres',\n",
       " 'editorial',\n",
       " 'fiction',\n",
       " 'government',\n",
       " 'hobbies',\n",
       " 'humor',\n",
       " 'learned',\n",
       " 'lore',\n",
       " 'mystery',\n",
       " 'news',\n",
       " 'religion',\n",
       " 'reviews',\n",
       " 'romance',\n",
       " 'science_fiction']"
      ]
     },
     "execution_count": 46,
     "metadata": {},
     "output_type": "execute_result"
    }
   ],
   "source": [
    "brown.categories()"
   ]
  },
  {
   "cell_type": "code",
   "execution_count": 50,
   "id": "3cd9bbf2-c22d-44d6-8232-286318b214cd",
   "metadata": {},
   "outputs": [],
   "source": [
    "fdist = nltk.FreqDist([w.lower() for w in brown.words(categories='adventure')])"
   ]
  },
  {
   "cell_type": "code",
   "execution_count": 51,
   "id": "0a7bc63b-49c0-4170-9a97-f40a8026e00f",
   "metadata": {},
   "outputs": [
    {
     "data": {
      "text/plain": [
       "83"
      ]
     },
     "execution_count": 51,
     "metadata": {},
     "output_type": "execute_result"
    }
   ],
   "source": [
    "fdist['men']"
   ]
  },
  {
   "cell_type": "code",
   "execution_count": 54,
   "id": "7aab29cc-0ee0-4178-b0c5-756770c6f4e2",
   "metadata": {},
   "outputs": [
    {
     "name": "stdout",
     "output_type": "stream",
     "text": [
      "can 48\n",
      "could 154\n",
      "will 51\n",
      "would 194\n",
      "may 7\n",
      "might 59\n"
     ]
    }
   ],
   "source": [
    "#modal verbs\n",
    "modals = ['can', 'could', 'will', 'would', 'may', 'might']\n",
    "\n",
    "for verb in modals:\n",
    "    print(verb, fdist[verb])"
   ]
  },
  {
   "cell_type": "markdown",
   "id": "77525057-657a-4da5-a974-188605c2c87d",
   "metadata": {},
   "source": [
    "### conditional frequency distribution\n",
    "- 조건에 따른 fdist"
   ]
  },
  {
   "cell_type": "code",
   "execution_count": 14,
   "id": "7f6a8f83-c0e9-42d7-b016-3a09c873ca87",
   "metadata": {},
   "outputs": [
    {
     "ename": "NameError",
     "evalue": "name 'brown' is not defined",
     "output_type": "error",
     "traceback": [
      "\u001b[0;31m---------------------------------------------------------------------------\u001b[0m",
      "\u001b[0;31mNameError\u001b[0m                                 Traceback (most recent call last)",
      "\u001b[0;32m/var/folders/hw/1ktzsq7s1w14xc35sfjzdtg80000gn/T/ipykernel_6499/3937720670.py\u001b[0m in \u001b[0;36m<module>\u001b[0;34m\u001b[0m\n\u001b[1;32m      2\u001b[0m     \u001b[0;31m#각 장르에 따른 frequency distribution을 만든다.\u001b[0m\u001b[0;34m\u001b[0m\u001b[0;34m\u001b[0m\u001b[0m\n\u001b[1;32m      3\u001b[0m     \u001b[0;34m(\u001b[0m\u001b[0mgenre\u001b[0m\u001b[0;34m,\u001b[0m \u001b[0mword\u001b[0m\u001b[0;34m.\u001b[0m\u001b[0mlower\u001b[0m\u001b[0;34m(\u001b[0m\u001b[0;34m)\u001b[0m\u001b[0;34m)\u001b[0m\u001b[0;34m\u001b[0m\u001b[0;34m\u001b[0m\u001b[0m\n\u001b[0;32m----> 4\u001b[0;31m     \u001b[0;32mfor\u001b[0m \u001b[0mgenre\u001b[0m \u001b[0;32min\u001b[0m \u001b[0mbrown\u001b[0m\u001b[0;34m.\u001b[0m\u001b[0mcategories\u001b[0m\u001b[0;34m(\u001b[0m\u001b[0;34m)\u001b[0m\u001b[0;34m\u001b[0m\u001b[0;34m\u001b[0m\u001b[0m\n\u001b[0m\u001b[1;32m      5\u001b[0m     \u001b[0;32mfor\u001b[0m \u001b[0mword\u001b[0m \u001b[0;32min\u001b[0m \u001b[0mbrown\u001b[0m\u001b[0;34m.\u001b[0m\u001b[0mwords\u001b[0m\u001b[0;34m(\u001b[0m\u001b[0mcategories\u001b[0m\u001b[0;34m=\u001b[0m\u001b[0mgenre\u001b[0m\u001b[0;34m)\u001b[0m\u001b[0;34m\u001b[0m\u001b[0;34m\u001b[0m\u001b[0m\n\u001b[1;32m      6\u001b[0m     )\n",
      "\u001b[0;31mNameError\u001b[0m: name 'brown' is not defined"
     ]
    }
   ],
   "source": [
    "cfd = nltk.ConditionalFreqDist(\n",
    "    #각 장르에 따른 frequency distribution을 만든다.\n",
    "    (genre, word.lower())\n",
    "    for genre in brown.categories()\n",
    "    for word in brown.words(categories=genre)\n",
    "    )"
   ]
  },
  {
   "cell_type": "code",
   "execution_count": null,
   "id": "2334d354-c24a-4e40-9b22-14a6bb31ef2b",
   "metadata": {},
   "outputs": [],
   "source": []
  },
  {
   "cell_type": "code",
   "execution_count": null,
   "id": "37009c94-366d-4b60-b104-2bf9b5f7b018",
   "metadata": {},
   "outputs": [],
   "source": []
  },
  {
   "cell_type": "code",
   "execution_count": null,
   "id": "094719bb-f411-483c-9813-d3404f0bebf5",
   "metadata": {},
   "outputs": [],
   "source": []
  }
 ],
 "metadata": {
  "kernelspec": {
   "display_name": "Python 3 (ipykernel)",
   "language": "python",
   "name": "python3"
  },
  "language_info": {
   "codemirror_mode": {
    "name": "ipython",
    "version": 3
   },
   "file_extension": ".py",
   "mimetype": "text/x-python",
   "name": "python",
   "nbconvert_exporter": "python",
   "pygments_lexer": "ipython3",
   "version": "3.9.7"
  }
 },
 "nbformat": 4,
 "nbformat_minor": 5
}
